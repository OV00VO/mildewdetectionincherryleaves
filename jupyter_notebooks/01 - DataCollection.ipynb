{
 "cells": [
  {
   "cell_type": "markdown",
   "metadata": {},
   "source": [
    "**Credits to Code Institute:** All code below is either; \n",
    "re-modeled, re-structed or re-created to fit this project."
   ]
  },
  {
   "cell_type": "code",
   "execution_count": 4,
   "metadata": {},
   "outputs": [
    {
     "name": "stdout",
     "output_type": "stream",
     "text": [
      "Requirement already satisfied: absl-py==2.1.0 in /workspace/.pyenv_mirror/user/current/lib/python3.12/site-packages (from -r /workspace/mildewdetectionincherryleaves/requirements_3.txt (line 1)) (2.1.0)\n",
      "Requirement already satisfied: altair==5.3.0 in /workspace/.pyenv_mirror/user/current/lib/python3.12/site-packages (from -r /workspace/mildewdetectionincherryleaves/requirements_3.txt (line 2)) (5.3.0)\n",
      "Requirement already satisfied: astunparse==1.6.3 in /workspace/.pyenv_mirror/user/current/lib/python3.12/site-packages (from -r /workspace/mildewdetectionincherryleaves/requirements_3.txt (line 3)) (1.6.3)\n",
      "Requirement already satisfied: backcall==0.2.0 in /workspace/.pyenv_mirror/user/current/lib/python3.12/site-packages (from -r /workspace/mildewdetectionincherryleaves/requirements_3.txt (line 4)) (0.2.0)\n",
      "Requirement already satisfied: blinker==1.8.2 in /workspace/.pyenv_mirror/user/current/lib/python3.12/site-packages (from -r /workspace/mildewdetectionincherryleaves/requirements_3.txt (line 5)) (1.8.2)\n",
      "Requirement already satisfied: cachetools==5.3.3 in /workspace/.pyenv_mirror/user/current/lib/python3.12/site-packages (from -r /workspace/mildewdetectionincherryleaves/requirements_3.txt (line 6)) (5.3.3)\n",
      "Requirement already satisfied: click==8.1.7 in /workspace/.pyenv_mirror/user/current/lib/python3.12/site-packages (from -r /workspace/mildewdetectionincherryleaves/requirements_3.txt (line 7)) (8.1.7)\n",
      "Requirement already satisfied: contourpy==1.2.1 in /workspace/.pyenv_mirror/user/current/lib/python3.12/site-packages (from -r /workspace/mildewdetectionincherryleaves/requirements_3.txt (line 8)) (1.2.1)\n",
      "Requirement already satisfied: cycler==0.12.1 in /workspace/.pyenv_mirror/user/current/lib/python3.12/site-packages (from -r /workspace/mildewdetectionincherryleaves/requirements_3.txt (line 9)) (0.12.1)\n",
      "Requirement already satisfied: docopt==0.6.2 in /workspace/.pyenv_mirror/user/current/lib/python3.12/site-packages (from -r /workspace/mildewdetectionincherryleaves/requirements_3.txt (line 10)) (0.6.2)\n",
      "Requirement already satisfied: flatbuffers==24.3.25 in /workspace/.pyenv_mirror/user/current/lib/python3.12/site-packages (from -r /workspace/mildewdetectionincherryleaves/requirements_3.txt (line 11)) (24.3.25)\n",
      "Requirement already satisfied: fonttools==4.53.0 in /workspace/.pyenv_mirror/user/current/lib/python3.12/site-packages (from -r /workspace/mildewdetectionincherryleaves/requirements_3.txt (line 12)) (4.53.0)\n",
      "Requirement already satisfied: gast==0.5.4 in /workspace/.pyenv_mirror/user/current/lib/python3.12/site-packages (from -r /workspace/mildewdetectionincherryleaves/requirements_3.txt (line 13)) (0.5.4)\n",
      "Requirement already satisfied: gitdb==4.0.11 in /workspace/.pyenv_mirror/user/current/lib/python3.12/site-packages (from -r /workspace/mildewdetectionincherryleaves/requirements_3.txt (line 14)) (4.0.11)\n",
      "Requirement already satisfied: GitPython==3.1.43 in /workspace/.pyenv_mirror/user/current/lib/python3.12/site-packages (from -r /workspace/mildewdetectionincherryleaves/requirements_3.txt (line 15)) (3.1.43)\n",
      "Requirement already satisfied: google-pasta==0.2.0 in /workspace/.pyenv_mirror/user/current/lib/python3.12/site-packages (from -r /workspace/mildewdetectionincherryleaves/requirements_3.txt (line 16)) (0.2.0)\n",
      "Requirement already satisfied: grpcio==1.64.1 in /workspace/.pyenv_mirror/user/current/lib/python3.12/site-packages (from -r /workspace/mildewdetectionincherryleaves/requirements_3.txt (line 17)) (1.64.1)\n",
      "Requirement already satisfied: h5py==3.11.0 in /workspace/.pyenv_mirror/user/current/lib/python3.12/site-packages (from -r /workspace/mildewdetectionincherryleaves/requirements_3.txt (line 18)) (3.11.0)\n",
      "Requirement already satisfied: ipython==8.12.3 in /workspace/.pyenv_mirror/user/current/lib/python3.12/site-packages (from -r /workspace/mildewdetectionincherryleaves/requirements_3.txt (line 19)) (8.12.3)\n",
      "Requirement already satisfied: joblib==1.4.2 in /workspace/.pyenv_mirror/user/current/lib/python3.12/site-packages (from -r /workspace/mildewdetectionincherryleaves/requirements_3.txt (line 20)) (1.4.2)\n",
      "Requirement already satisfied: keras==3.4.0 in /workspace/.pyenv_mirror/user/current/lib/python3.12/site-packages (from -r /workspace/mildewdetectionincherryleaves/requirements_3.txt (line 21)) (3.4.0)\n",
      "Requirement already satisfied: kiwisolver==1.4.5 in /workspace/.pyenv_mirror/user/current/lib/python3.12/site-packages (from -r /workspace/mildewdetectionincherryleaves/requirements_3.txt (line 22)) (1.4.5)\n",
      "Requirement already satisfied: libclang==18.1.1 in /workspace/.pyenv_mirror/user/current/lib/python3.12/site-packages (from -r /workspace/mildewdetectionincherryleaves/requirements_3.txt (line 23)) (18.1.1)\n",
      "Requirement already satisfied: Markdown==3.6 in /workspace/.pyenv_mirror/user/current/lib/python3.12/site-packages (from -r /workspace/mildewdetectionincherryleaves/requirements_3.txt (line 24)) (3.6)\n",
      "Requirement already satisfied: matplotlib==3.9.0 in /workspace/.pyenv_mirror/user/current/lib/python3.12/site-packages (from -r /workspace/mildewdetectionincherryleaves/requirements_3.txt (line 25)) (3.9.0)\n",
      "Requirement already satisfied: ml-dtypes==0.3.2 in /workspace/.pyenv_mirror/user/current/lib/python3.12/site-packages (from -r /workspace/mildewdetectionincherryleaves/requirements_3.txt (line 26)) (0.3.2)\n",
      "Requirement already satisfied: namex==0.0.8 in /workspace/.pyenv_mirror/user/current/lib/python3.12/site-packages (from -r /workspace/mildewdetectionincherryleaves/requirements_3.txt (line 27)) (0.0.8)\n",
      "Requirement already satisfied: numpy==1.26.4 in /workspace/.pyenv_mirror/user/current/lib/python3.12/site-packages (from -r /workspace/mildewdetectionincherryleaves/requirements_3.txt (line 28)) (1.26.4)\n",
      "Requirement already satisfied: opt-einsum==3.3.0 in /workspace/.pyenv_mirror/user/current/lib/python3.12/site-packages (from -r /workspace/mildewdetectionincherryleaves/requirements_3.txt (line 29)) (3.3.0)\n",
      "Requirement already satisfied: optree==0.11.0 in /workspace/.pyenv_mirror/user/current/lib/python3.12/site-packages (from -r /workspace/mildewdetectionincherryleaves/requirements_3.txt (line 30)) (0.11.0)\n",
      "Requirement already satisfied: pandas==2.2.2 in /workspace/.pyenv_mirror/user/current/lib/python3.12/site-packages (from -r /workspace/mildewdetectionincherryleaves/requirements_3.txt (line 31)) (2.2.2)\n",
      "Requirement already satisfied: pickleshare==0.7.5 in /workspace/.pyenv_mirror/user/current/lib/python3.12/site-packages (from -r /workspace/mildewdetectionincherryleaves/requirements_3.txt (line 32)) (0.7.5)\n",
      "Requirement already satisfied: pillow==10.3.0 in /workspace/.pyenv_mirror/user/current/lib/python3.12/site-packages (from -r /workspace/mildewdetectionincherryleaves/requirements_3.txt (line 33)) (10.3.0)\n",
      "Requirement already satisfied: pipdeptree==2.23.0 in /workspace/.pyenv_mirror/user/current/lib/python3.12/site-packages (from -r /workspace/mildewdetectionincherryleaves/requirements_3.txt (line 34)) (2.23.0)\n",
      "Requirement already satisfied: pipreqs==0.5.0 in /workspace/.pyenv_mirror/user/current/lib/python3.12/site-packages (from -r /workspace/mildewdetectionincherryleaves/requirements_3.txt (line 35)) (0.5.0)\n",
      "Requirement already satisfied: plotly==5.22.0 in /workspace/.pyenv_mirror/user/current/lib/python3.12/site-packages (from -r /workspace/mildewdetectionincherryleaves/requirements_3.txt (line 36)) (5.22.0)\n",
      "Requirement already satisfied: protobuf==4.25.3 in /workspace/.pyenv_mirror/user/current/lib/python3.12/site-packages (from -r /workspace/mildewdetectionincherryleaves/requirements_3.txt (line 37)) (4.25.3)\n",
      "Requirement already satisfied: pyarrow==16.1.0 in /workspace/.pyenv_mirror/user/current/lib/python3.12/site-packages (from -r /workspace/mildewdetectionincherryleaves/requirements_3.txt (line 38)) (16.1.0)\n",
      "Requirement already satisfied: pydeck==0.9.1 in /workspace/.pyenv_mirror/user/current/lib/python3.12/site-packages (from -r /workspace/mildewdetectionincherryleaves/requirements_3.txt (line 39)) (0.9.1)\n",
      "Requirement already satisfied: pyparsing==3.1.2 in /workspace/.pyenv_mirror/user/current/lib/python3.12/site-packages (from -r /workspace/mildewdetectionincherryleaves/requirements_3.txt (line 40)) (3.1.2)\n",
      "Requirement already satisfied: pytz==2024.1 in /workspace/.pyenv_mirror/user/current/lib/python3.12/site-packages (from -r /workspace/mildewdetectionincherryleaves/requirements_3.txt (line 41)) (2024.1)\n",
      "Requirement already satisfied: seaborn==0.13.2 in /workspace/.pyenv_mirror/user/current/lib/python3.12/site-packages (from -r /workspace/mildewdetectionincherryleaves/requirements_3.txt (line 42)) (0.13.2)\n",
      "Requirement already satisfied: smmap==5.0.1 in /workspace/.pyenv_mirror/user/current/lib/python3.12/site-packages (from -r /workspace/mildewdetectionincherryleaves/requirements_3.txt (line 43)) (5.0.1)\n",
      "Requirement already satisfied: streamlit==1.36.0 in /workspace/.pyenv_mirror/user/current/lib/python3.12/site-packages (from -r /workspace/mildewdetectionincherryleaves/requirements_3.txt (line 44)) (1.36.0)\n",
      "Requirement already satisfied: tenacity==8.4.2 in /workspace/.pyenv_mirror/user/current/lib/python3.12/site-packages (from -r /workspace/mildewdetectionincherryleaves/requirements_3.txt (line 45)) (8.4.2)\n",
      "Requirement already satisfied: tensorboard==2.16.2 in /workspace/.pyenv_mirror/user/current/lib/python3.12/site-packages (from -r /workspace/mildewdetectionincherryleaves/requirements_3.txt (line 46)) (2.16.2)\n",
      "Requirement already satisfied: tensorboard-data-server==0.7.2 in /workspace/.pyenv_mirror/user/current/lib/python3.12/site-packages (from -r /workspace/mildewdetectionincherryleaves/requirements_3.txt (line 47)) (0.7.2)\n",
      "Requirement already satisfied: tensorflow==2.16.1 in /workspace/.pyenv_mirror/user/current/lib/python3.12/site-packages (from -r /workspace/mildewdetectionincherryleaves/requirements_3.txt (line 48)) (2.16.1)\n",
      "Requirement already satisfied: termcolor==2.4.0 in /workspace/.pyenv_mirror/user/current/lib/python3.12/site-packages (from -r /workspace/mildewdetectionincherryleaves/requirements_3.txt (line 49)) (2.4.0)\n",
      "Requirement already satisfied: toml==0.10.2 in /workspace/.pyenv_mirror/user/current/lib/python3.12/site-packages (from -r /workspace/mildewdetectionincherryleaves/requirements_3.txt (line 50)) (0.10.2)\n",
      "Requirement already satisfied: toolz==0.12.1 in /workspace/.pyenv_mirror/user/current/lib/python3.12/site-packages (from -r /workspace/mildewdetectionincherryleaves/requirements_3.txt (line 51)) (0.12.1)\n",
      "Requirement already satisfied: tornado==6.4.1 in /workspace/.pyenv_mirror/user/current/lib/python3.12/site-packages (from -r /workspace/mildewdetectionincherryleaves/requirements_3.txt (line 52)) (6.4.1)\n",
      "Requirement already satisfied: tzdata==2024.1 in /workspace/.pyenv_mirror/user/current/lib/python3.12/site-packages (from -r /workspace/mildewdetectionincherryleaves/requirements_3.txt (line 53)) (2024.1)\n",
      "Requirement already satisfied: urllib3==2.2.2 in /workspace/.pyenv_mirror/user/current/lib/python3.12/site-packages (from -r /workspace/mildewdetectionincherryleaves/requirements_3.txt (line 54)) (2.2.2)\n",
      "Requirement already satisfied: watchdog==4.0.1 in /workspace/.pyenv_mirror/user/current/lib/python3.12/site-packages (from -r /workspace/mildewdetectionincherryleaves/requirements_3.txt (line 55)) (4.0.1)\n",
      "Requirement already satisfied: Werkzeug==3.0.3 in /workspace/.pyenv_mirror/user/current/lib/python3.12/site-packages (from -r /workspace/mildewdetectionincherryleaves/requirements_3.txt (line 56)) (3.0.3)\n",
      "Requirement already satisfied: wrapt==1.16.0 in /workspace/.pyenv_mirror/user/current/lib/python3.12/site-packages (from -r /workspace/mildewdetectionincherryleaves/requirements_3.txt (line 57)) (1.16.0)\n",
      "Requirement already satisfied: yarg==0.1.9 in /workspace/.pyenv_mirror/user/current/lib/python3.12/site-packages (from -r /workspace/mildewdetectionincherryleaves/requirements_3.txt (line 58)) (0.1.9)\n",
      "Note: you may need to restart the kernel to use updated packages.\n"
     ]
    }
   ],
   "source": [
    "%pip install --no-dependencies -r /workspace/mildewdetectionincherryleaves/requirements_3.txt"
   ]
  },
  {
   "cell_type": "code",
   "execution_count": 5,
   "metadata": {},
   "outputs": [],
   "source": [
    "import numpy\n",
    "import os"
   ]
  },
  {
   "cell_type": "code",
   "execution_count": 6,
   "metadata": {},
   "outputs": [
    {
     "data": {
      "text/plain": [
       "'/workspace/mildewdetectionincherryleaves/jupyter_notebooks'"
      ]
     },
     "execution_count": 6,
     "metadata": {},
     "output_type": "execute_result"
    }
   ],
   "source": [
    "current_dir = os.getcwd()\n",
    "current_dir"
   ]
  },
  {
   "cell_type": "code",
   "execution_count": 7,
   "metadata": {},
   "outputs": [
    {
     "name": "stdout",
     "output_type": "stream",
     "text": [
      "You set a new current directory\n"
     ]
    }
   ],
   "source": [
    "os.chdir('/workspace/mildewdetectionincherryleaves')\n",
    "print(\"You set a new current directory\")"
   ]
  },
  {
   "cell_type": "code",
   "execution_count": 8,
   "metadata": {},
   "outputs": [
    {
     "name": "stdout",
     "output_type": "stream",
     "text": [
      "Collecting kaggle==1.5.12\n",
      "  Downloading kaggle-1.5.12.tar.gz (58 kB)\n",
      "\u001b[2K     \u001b[90m━━━━━━━━━━━━━━━━━━━━━━━━━━━━━━━━━━━━━━━━\u001b[0m \u001b[32m59.0/59.0 kB\u001b[0m \u001b[31m4.5 MB/s\u001b[0m eta \u001b[36m0:00:00\u001b[0m\n",
      "\u001b[?25h  Preparing metadata (setup.py) ... \u001b[?25ldone\n",
      "\u001b[?25hRequirement already satisfied: six>=1.10 in /home/gitpod/.pyenv/versions/3.12.3/lib/python3.12/site-packages (from kaggle==1.5.12) (1.16.0)\n",
      "Requirement already satisfied: certifi in /home/gitpod/.pyenv/versions/3.12.3/lib/python3.12/site-packages (from kaggle==1.5.12) (2024.2.2)\n",
      "Requirement already satisfied: python-dateutil in /home/gitpod/.pyenv/versions/3.12.3/lib/python3.12/site-packages (from kaggle==1.5.12) (2.9.0.post0)\n",
      "Requirement already satisfied: requests in /home/gitpod/.pyenv/versions/3.12.3/lib/python3.12/site-packages (from kaggle==1.5.12) (2.31.0)\n",
      "Collecting tqdm (from kaggle==1.5.12)\n",
      "  Downloading tqdm-4.66.4-py3-none-any.whl.metadata (57 kB)\n",
      "\u001b[2K     \u001b[90m━━━━━━━━━━━━━━━━━━━━━━━━━━━━━━━━━━━━━━━━\u001b[0m \u001b[32m57.6/57.6 kB\u001b[0m \u001b[31m11.8 MB/s\u001b[0m eta \u001b[36m0:00:00\u001b[0m\n",
      "\u001b[?25hCollecting python-slugify (from kaggle==1.5.12)\n",
      "  Downloading python_slugify-8.0.4-py2.py3-none-any.whl.metadata (8.5 kB)\n",
      "Requirement already satisfied: urllib3 in /workspace/.pyenv_mirror/user/current/lib/python3.12/site-packages (from kaggle==1.5.12) (2.2.2)\n",
      "Collecting text-unidecode>=1.3 (from python-slugify->kaggle==1.5.12)\n",
      "  Downloading text_unidecode-1.3-py2.py3-none-any.whl.metadata (2.4 kB)\n",
      "Requirement already satisfied: charset-normalizer<4,>=2 in /home/gitpod/.pyenv/versions/3.12.3/lib/python3.12/site-packages (from requests->kaggle==1.5.12) (3.3.2)\n",
      "Requirement already satisfied: idna<4,>=2.5 in /home/gitpod/.pyenv/versions/3.12.3/lib/python3.12/site-packages (from requests->kaggle==1.5.12) (3.7)\n",
      "Downloading python_slugify-8.0.4-py2.py3-none-any.whl (10 kB)\n",
      "Downloading tqdm-4.66.4-py3-none-any.whl (78 kB)\n",
      "\u001b[2K   \u001b[90m━━━━━━━━━━━━━━━━━━━━━━━━━━━━━━━━━━━━━━━━\u001b[0m \u001b[32m78.3/78.3 kB\u001b[0m \u001b[31m29.9 MB/s\u001b[0m eta \u001b[36m0:00:00\u001b[0m\n",
      "\u001b[?25hDownloading text_unidecode-1.3-py2.py3-none-any.whl (78 kB)\n",
      "\u001b[2K   \u001b[90m━━━━━━━━━━━━━━━━━━━━━━━━━━━━━━━━━━━━━━━━\u001b[0m \u001b[32m78.2/78.2 kB\u001b[0m \u001b[31m26.1 MB/s\u001b[0m eta \u001b[36m0:00:00\u001b[0m\n",
      "\u001b[?25hBuilding wheels for collected packages: kaggle\n",
      "  Building wheel for kaggle (setup.py) ... \u001b[?25ldone\n",
      "\u001b[?25h  Created wheel for kaggle: filename=kaggle-1.5.12-py3-none-any.whl size=73027 sha256=3e277c7e84da73f345214dd375c1f16191425b61e0d94db9dad678c90808937e\n",
      "  Stored in directory: /workspace/.pyenv_mirror/pip_cache/wheels/f5/69/4d/d701fc604b9fb09be59718b4056fd5556a22588ce1f25dd090\n",
      "Successfully built kaggle\n",
      "Installing collected packages: text-unidecode, tqdm, python-slugify, kaggle\n",
      "Successfully installed kaggle-1.5.12 python-slugify-8.0.4 text-unidecode-1.3 tqdm-4.66.4\n",
      "Note: you may need to restart the kernel to use updated packages.\n"
     ]
    }
   ],
   "source": [
    "%pip install kaggle==1.5.12"
   ]
  },
  {
   "cell_type": "code",
   "execution_count": 9,
   "metadata": {},
   "outputs": [],
   "source": [
    "os.environ['KAGGLE_CONFIG_DIR'] = os.getcwd()\n",
    "! chmod 600 kaggle.json"
   ]
  },
  {
   "cell_type": "code",
   "execution_count": 10,
   "metadata": {},
   "outputs": [
    {
     "name": "stdout",
     "output_type": "stream",
     "text": [
      "Downloading cherry-leaves.zip to inputs/cherry-leaves_dataset\n",
      " 91%|██████████████████████████████████▌   | 50.0M/55.0M [00:01<00:00, 43.2MB/s]\n",
      "100%|██████████████████████████████████████| 55.0M/55.0M [00:01<00:00, 31.8MB/s]\n"
     ]
    }
   ],
   "source": [
    "KaggleDatasetPath = \"codeinstitute/cherry-leaves\"\n",
    "DestinationFolder = \"inputs/cherry-leaves_dataset\"   \n",
    "! kaggle datasets download -d {KaggleDatasetPath} -p {DestinationFolder}"
   ]
  },
  {
   "cell_type": "code",
   "execution_count": 11,
   "metadata": {},
   "outputs": [],
   "source": [
    "import zipfile\n",
    "with zipfile.ZipFile(DestinationFolder + '/cherry-leaves.zip', 'r') as zip_ref:\n",
    "    zip_ref.extractall(DestinationFolder)\n",
    "\n",
    "os.remove(DestinationFolder + '/cherry-leaves.zip')"
   ]
  },
  {
   "cell_type": "code",
   "execution_count": 12,
   "metadata": {},
   "outputs": [],
   "source": [
    "def remove_non_image_file(my_data_dir):\n",
    "    image_extension = ('.png', '.jpg', '.jpeg')\n",
    "    folders = os.listdir(my_data_dir)\n",
    "    for folder in folders:\n",
    "        files = os.listdir(my_data_dir + '/' + folder)\n",
    "        i = []\n",
    "        j = []\n",
    "        for given_file in files:\n",
    "            if not given_file.lower().endswith(image_extension):\n",
    "                file_location = my_data_dir + '/' + folder + '/' + given_file\n",
    "                os.remove(file_location)\n",
    "                i.append(1)\n",
    "            else:\n",
    "                j.append(1)\n",
    "                pass\n",
    "        print(f\"Folder: {folder} - has image file\", len(j))\n",
    "        print(f\"Folder: {folder} - has non-image file\", len(i))"
   ]
  },
  {
   "cell_type": "code",
   "execution_count": 14,
   "metadata": {},
   "outputs": [],
   "source": [
    "import os\n",
    "\n",
    "def remove_non_image_file(my_data_dir='inputs/cherry-leaves_dataset/cherry-leaves'):\n",
    "  image_extensions = ('.jpg', '.jpeg', '.png', '.bmp')\n",
    "\n",
    "  for folder in os.listdir(my_data_dir):\n",
    "    folder_path = os.path.join(my_data_dir, folder)\n",
    "    if not os.path.isdir(folder_path):\n",
    "      continue\n",
    "\n",
    "    for given_file in os.listdir(folder_path):\n",
    "      file_location = os.path.join(folder_path, given_file)\n",
    "      if not given_file.lower().endswith(image_extensions) and os.path.isfile(file_location):\n",
    "        os.remove(file_location)\n",
    "        print(f\"Removed non-image file: {file_location}\")"
   ]
  },
  {
   "cell_type": "code",
   "execution_count": 15,
   "metadata": {},
   "outputs": [],
   "source": [
    "import os\n",
    "import shutil\n",
    "import random\n",
    "import joblib\n",
    "\n",
    "\n",
    "def split_train_validation_test_images(my_data_dir, train_set_ratio, validation_set_ratio, test_set_ratio):\n",
    "\n",
    "    if train_set_ratio + validation_set_ratio + test_set_ratio != 1.0:\n",
    "        print(\"train_set_ratio + validation_set_ratio + test_set_ratio should sum to 1.0\")\n",
    "        return\n",
    "\n",
    "    labels = os.listdir(my_data_dir)\n",
    "    if 'test' in labels:\n",
    "        pass\n",
    "    else:\n",
    "        for folder in ['train', 'validation', 'test']:\n",
    "            for label in labels:\n",
    "                os.makedirs(name=my_data_dir + '/' + folder + '/' + label)\n",
    "\n",
    "        for label in labels:\n",
    "\n",
    "            files = os.listdir(my_data_dir + '/' + label)\n",
    "            random.shuffle(files)\n",
    "\n",
    "            train_set_files_qty = int(len(files) * train_set_ratio)\n",
    "            validation_set_files_qty = int(len(files) * validation_set_ratio)\n",
    "\n",
    "            count = 1\n",
    "            for file_name in files:\n",
    "                if count <= train_set_files_qty:\n",
    "                    shutil.move(my_data_dir + '/' + label + '/' + file_name,\n",
    "                                my_data_dir + '/train/' + label + '/' + file_name)\n",
    "\n",
    "                elif count <= (train_set_files_qty + validation_set_files_qty):\n",
    "                    shutil.move(my_data_dir + '/' + label + '/' + file_name,\n",
    "                                my_data_dir + '/validation/' + label + '/' + file_name)\n",
    "\n",
    "                else:\n",
    "                    shutil.move(my_data_dir + '/' + label + '/' + file_name,\n",
    "                                my_data_dir + '/test/' + label + '/' + file_name)\n",
    "\n",
    "                count += 1\n",
    "\n",
    "            os.rmdir(my_data_dir + '/' + label)"
   ]
  },
  {
   "cell_type": "code",
   "execution_count": 16,
   "metadata": {},
   "outputs": [],
   "source": [
    "split_train_validation_test_images(my_data_dir=f\"inputs/cherry-leaves_dataset/cherry-leaves\",\n",
    "                                   train_set_ratio=0.7,\n",
    "                                   validation_set_ratio=0.1,\n",
    "                                   test_set_ratio=0.2\n",
    "                                   )"
   ]
  },
  {
   "cell_type": "markdown",
   "metadata": {},
   "source": [
    "### End of Step By Step Instructions for Data Collection - Well Done!"
   ]
  }
 ],
 "metadata": {
  "kernelspec": {
   "display_name": "Python 3",
   "language": "python",
   "name": "python3"
  },
  "language_info": {
   "codemirror_mode": {
    "name": "ipython",
    "version": 3
   },
   "file_extension": ".py",
   "mimetype": "text/x-python",
   "name": "python",
   "nbconvert_exporter": "python",
   "pygments_lexer": "ipython3",
   "version": "3.12.undefined"
  }
 },
 "nbformat": 4,
 "nbformat_minor": 2
}
