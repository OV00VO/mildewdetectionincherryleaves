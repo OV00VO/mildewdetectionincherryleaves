{
 "cells": [
  {
   "cell_type": "markdown",
   "metadata": {},
   "source": [
    "**Credits to Code Institute:** All code below is either; \n",
    "re-modeled, re-structed or re-created to fit this project."
   ]
  },
  {
   "cell_type": "markdown",
   "metadata": {},
   "source": [
    "## Modelling and Evaluation Notebook\n",
    "**Credits to Code Institute:** All code below is either re-modeled, re-structed or re-created to fit this project.\n",
    "### Objectives\n",
    "* **Answer business requirement 2:**\n",
    "* The client is interested to tell whether a given cherry leaf contains mildew or not.\n",
    "### Inputs\n",
    "* inputs/cherry-leaves_dataset/cherry-leaves/train\n",
    "* inputs/cherry-leaves_dataset/cherry-leaves/test\n",
    "* inputs/cherry-leaves_dataset/cherry-leaves/validation\n",
    "* image shape embeddings.\n",
    "### Outputs\n",
    "* Images distribution plot in train, validation, and test set.\n",
    "* Image augmentation.\n",
    "* Class indices to change prediction inference in labels.\n",
    "* Machine learning model creation and training.\n",
    "* Save model.\n",
    "* Learning curve plot for model performance.\n",
    "* Model evaluation on pickle file.\n",
    "* Prediction on the random image file.\n",
    "### Additional Comments | Insights | Conclusions"
   ]
  },
  {
   "cell_type": "markdown",
   "metadata": {},
   "source": [
    "### Import regular packages"
   ]
  },
  {
   "cell_type": "code",
   "execution_count": 41,
   "metadata": {},
   "outputs": [],
   "source": [
    "import os\n",
    "import pandas as pd\n",
    "import numpy as np\n",
    "import matplotlib.pyplot as plt\n",
    "import seaborn as sns\n",
    "from matplotlib.image import imread"
   ]
  },
  {
   "cell_type": "markdown",
   "metadata": {},
   "source": [
    "## Set Working Directory"
   ]
  },
  {
   "cell_type": "code",
   "execution_count": 42,
   "metadata": {},
   "outputs": [],
   "source": [
    "cwd= os.getcwd()"
   ]
  },
  {
   "cell_type": "code",
   "execution_count": 43,
   "metadata": {},
   "outputs": [
    {
     "name": "stdout",
     "output_type": "stream",
     "text": [
      "You have now set a new current directory for this part.\n"
     ]
    }
   ],
   "source": [
    "os.chdir('/workspace/mildewdetectionincherryleaves')\n",
    "print(\"You have now set a new current directory for this part.\")\n"
   ]
  },
  {
   "cell_type": "code",
   "execution_count": 44,
   "metadata": {},
   "outputs": [
    {
     "name": "stdout",
     "output_type": "stream",
     "text": [
      "Displaying the current working directory:\n"
     ]
    },
    {
     "data": {
      "text/plain": [
       "'/workspace/mildewdetectionincherryleaves'"
      ]
     },
     "execution_count": 44,
     "metadata": {},
     "output_type": "execute_result"
    }
   ],
   "source": [
    "work_dir = os.getcwd()\n",
    "print(\"Displaying the current working directory:\")\n",
    "work_dir\n"
   ]
  },
  {
   "cell_type": "markdown",
   "metadata": {},
   "source": [
    "---"
   ]
  },
  {
   "cell_type": "markdown",
   "metadata": {},
   "source": [
    "### Set Input Directory"
   ]
  },
  {
   "cell_type": "code",
   "execution_count": 45,
   "metadata": {},
   "outputs": [],
   "source": [
    "my_data_dir = 'inputs/cherry-leaves_dataset/cherry-leaves'\n",
    "train_path = my_data_dir + '/train'\n",
    "val_path = my_data_dir + '/validation'\n",
    "test_path = my_data_dir + '/test'"
   ]
  },
  {
   "cell_type": "markdown",
   "metadata": {},
   "source": [
    "### Set Output Directory"
   ]
  },
  {
   "cell_type": "code",
   "execution_count": 46,
   "metadata": {},
   "outputs": [
    {
     "name": "stdout",
     "output_type": "stream",
     "text": [
      "There is an old version availiable already, creating a new version.\n"
     ]
    }
   ],
   "source": [
    "version = 'v1'\n",
    "file_path = f'outputs/{version}'\n",
    "\n",
    "if 'outputs' in os.listdir(work_dir) and version in os.listdir(work_dir + '/outputs'):\n",
    "    print('There is an old version availiable already, creating a new version.')\n",
    "    pass\n",
    "else:\n",
    "    os.makedirs(name=file_path)"
   ]
  },
  {
   "cell_type": "markdown",
   "metadata": {},
   "source": [
    "### Set Labels for the Dataset"
   ]
  },
  {
   "cell_type": "code",
   "execution_count": 47,
   "metadata": {},
   "outputs": [
    {
     "name": "stdout",
     "output_type": "stream",
     "text": [
      "Mildew Detection in Cherry Leaves Dataset is Labeled: ['healthy', 'powdery_mildew']\n"
     ]
    }
   ],
   "source": [
    "labels = os.listdir(train_path)\n",
    "\n",
    "print(\n",
    "    f\"Mildew Detection in Cherry Leaves Dataset is Labeled: {labels}\"\n",
    ")"
   ]
  },
  {
   "cell_type": "markdown",
   "metadata": {},
   "source": [
    "### Calculations of Numbers of images in the Train, Test and Validation Data"
   ]
  },
  {
   "cell_type": "code",
   "execution_count": 48,
   "metadata": {},
   "outputs": [
    {
     "name": "stdout",
     "output_type": "stream",
     "text": [
      "* train - healthy: 1472 images\n",
      "* train - powdery_mildew: 1472 images\n",
      "* validation - healthy: 210 images\n",
      "* validation - powdery_mildew: 210 images\n",
      "* test - healthy: 422 images\n",
      "* test - powdery_mildew: 422 images\n"
     ]
    },
    {
     "data": {
      "image/png": "[encoded data removed]",
      "text/plain": [
       "<Figure size 800x500 with 1 Axes>"
      ]
     },
     "metadata": {},
     "output_type": "display_data"
    }
   ],
   "source": [
    "import pandas as pd\n",
    "import seaborn as sns\n",
    "import matplotlib.pyplot as plt\n",
    "import os\n",
    "\n",
    "\n",
    "def calculate_label_frequencies(data_dir, labels, datasets):\n",
    "  df_freq = pd.DataFrame(columns=['Set', 'Label', 'Frequency'])\n",
    "  for folder in datasets:\n",
    "    for label in labels:\n",
    "      data_path = os.path.join(data_dir, folder, label)\n",
    "      if os.path.isdir(data_path):  # Check if directory exists\n",
    "        num_images = len(os.listdir(data_path))\n",
    "        df_freq = pd.concat([df_freq, pd.DataFrame({'Set': folder, 'Label': label, 'Frequency': num_images}, index=[0])], ignore_index=True)\n",
    "        print(f\"* {folder} - {label}: {num_images} images\")\n",
    "  return df_freq\n",
    "\n",
    "\n",
    "labels = [\"healthy\", \"powdery_mildew\"]\n",
    "data_dir = \"inputs/cherry-leaves_dataset/cherry-leaves\"\n",
    "datasets = [\"train\", \"validation\", \"test\"]\n",
    "\n",
    "df_freq = calculate_label_frequencies(data_dir, labels, datasets)\n",
    "\n",
    "sns.set_style(\"whitegrid\")\n",
    "plt.figure(figsize=(8, 5))\n",
    "sns.barplot(data=df_freq, x='Set', y='Frequency', hue='Label')\n",
    "plt.savefig(f'{file_path}/labels_distribution.png', bbox_inches='tight', dpi=150)\n",
    "plt.show()"
   ]
  },
  {
   "cell_type": "markdown",
   "metadata": {},
   "source": [
    "---"
   ]
  },
  {
   "cell_type": "markdown",
   "metadata": {},
   "source": [
    "### Image Data Augmentation"
   ]
  },
  {
   "cell_type": "markdown",
   "metadata": {},
   "source": [
    "---"
   ]
  },
  {
   "cell_type": "code",
   "execution_count": 49,
   "metadata": {},
   "outputs": [],
   "source": [
    "from tensorflow.keras.preprocessing.image import ImageDataGenerator"
   ]
  },
  {
   "cell_type": "markdown",
   "metadata": {},
   "source": [
    "* Initialization of Image Data Generator"
   ]
  },
  {
   "cell_type": "code",
   "execution_count": 50,
   "metadata": {},
   "outputs": [],
   "source": [
    "augmented_image_data = ImageDataGenerator(\n",
    "    rotation_range=20,\n",
    "    width_shift_range=0.10,\n",
    "    height_shift_range=0.10,\n",
    "    shear_range=0.1,\n",
    "    zoom_range=0.1,\n",
    "    horizontal_flip=True,\n",
    "    vertical_flip=True,\n",
    "    fill_mode='nearest',\n",
    "    rescale=1./255\n",
    ")"
   ]
  },
  {
   "cell_type": "markdown",
   "metadata": {},
   "source": [
    "* Augmented Training of Image Dataset"
   ]
  },
  {
   "cell_type": "code",
   "execution_count": 51,
   "metadata": {},
   "outputs": [
    {
     "name": "stdout",
     "output_type": "stream",
     "text": [
      "Found 2944 images belonging to 2 classes.\n",
      "          Set           Label Frequency\n",
      "0       train         healthy      1472\n",
      "1       train  powdery_mildew      1472\n",
      "2  validation         healthy       210\n",
      "3  validation  powdery_mildew       210\n",
      "4        test         healthy       422\n",
      "5        test  powdery_mildew       422\n",
      "Class Labels: ['healthy', 'powdery_mildew']\n"
     ]
    }
   ],
   "source": [
    "import pandas as pd\n",
    "import os\n",
    "\n",
    "def create_train_generator(train_path, image_shape, batch_size, labels=\"binary\"):\n",
    "  augmented_image_data = ImageDataGenerator(rescale=1./255)\n",
    "  if not os.path.exists(train_path):\n",
    "    raise ValueError(f\"Training data directory not found: {train_path}\")\n",
    "\n",
    "  return augmented_image_data.flow_from_directory(\n",
    "      train_path,\n",
    "      target_size=image_shape[:2],\n",
    "      color_mode='rgb',\n",
    "      batch_size=batch_size,\n",
    "      class_mode=labels,\n",
    "      shuffle=True\n",
    "  )\n",
    "\n",
    "\n",
    "def calculate_label_frequencies(data_dir, labels, datasets):\n",
    "  df_freq = pd.DataFrame(columns=['Set', 'Label', 'Frequency'])\n",
    "  for folder in datasets:\n",
    "    for label in labels:\n",
    "      data_path = os.path.join(data_dir, folder, label)\n",
    "      if os.path.isdir(data_path):\n",
    "        try:\n",
    "          num_images = len(os.listdir(data_path))\n",
    "        except FileNotFoundError:\n",
    "          num_images = 0\n",
    "        df_freq = pd.concat([df_freq, pd.DataFrame({'Set': folder, 'Label': label, 'Frequency': num_images}, index=[0])], ignore_index=True)\n",
    "  return df_freq\n",
    "\n",
    "\n",
    "if __name__ == \"__main__\":\n",
    "  image_shape = (256, 256)\n",
    "  batch_size = 20\n",
    "  labels = [\"healthy\", \"powdery_mildew\"]\n",
    "  data_dir = \"inputs/cherry-leaves_dataset/cherry-leaves\"\n",
    "  datasets = [\"train\", \"validation\", \"test\"]\n",
    "\n",
    "  try:\n",
    "    train_set = create_train_generator(train_path, image_shape, batch_size)\n",
    "    df_freq = calculate_label_frequencies(data_dir, labels, datasets)\n",
    "  except ValueError as e:\n",
    "    print(f\"Error: {e}\")\n",
    "  else:\n",
    "    print(df_freq)\n",
    "    \n",
    "    print(f\"Class Labels: {labels}\")\n"
   ]
  },
  {
   "cell_type": "markdown",
   "metadata": {},
   "source": [
    "* Augmented Validation of Image Dataset"
   ]
  },
  {
   "cell_type": "code",
   "execution_count": 52,
   "metadata": {},
   "outputs": [
    {
     "name": "stdout",
     "output_type": "stream",
     "text": [
      "Found 420 images belonging to 2 classes.\n",
      "{'healthy': 0, 'powdery_mildew': 1}\n"
     ]
    }
   ],
   "source": [
    "validation_set = ImageDataGenerator(rescale=1./255) \\\n",
    "    .flow_from_directory(val_path,\n",
    "                         target_size=image_shape[:2],\n",
    "                         color_mode='rgb',\n",
    "                         batch_size=batch_size,\n",
    "                         class_mode='binary',\n",
    "                         shuffle=False)\n",
    "\n",
    "class_labels = dict(validation_set.class_indices)\n",
    "print(class_labels)"
   ]
  },
  {
   "cell_type": "markdown",
   "metadata": {},
   "source": [
    "* Creation of Augmented Test Image Dataset"
   ]
  },
  {
   "cell_type": "code",
   "execution_count": 53,
   "metadata": {},
   "outputs": [
    {
     "name": "stdout",
     "output_type": "stream",
     "text": [
      "Found 844 images belonging to 2 classes.\n"
     ]
    },
    {
     "data": {
      "text/plain": [
       "{'healthy': 0, 'powdery_mildew': 1}"
      ]
     },
     "execution_count": 53,
     "metadata": {},
     "output_type": "execute_result"
    }
   ],
   "source": [
    "def create_test_generator(test_path, image_shape, batch_size):\n",
    "  test_data_gen = ImageDataGenerator(rescale=1./255)\n",
    "  return test_data_gen.flow_from_directory(\n",
    "      test_path,\n",
    "      target_size=image_shape[:2],\n",
    "      color_mode='rgb',\n",
    "      batch_size=batch_size,\n",
    "      class_mode='binary',\n",
    "      shuffle=False\n",
    "  )\n",
    "  \n",
    "test_set = create_test_generator(test_path, image_shape, batch_size)\n",
    "\n",
    "test_set.class_indices"
   ]
  },
  {
   "cell_type": "code",
   "execution_count": 54,
   "metadata": {},
   "outputs": [],
   "source": [
    "import matplotlib.pyplot as plt\n",
    "\n",
    "\n",
    "def display_image(image):\n",
    "  if len(image.shape) not in (3, 4):\n",
    "    raise ValueError(\"Image must have 3 or 4 dimensions (height, width, channels)\")\n",
    "\n",
    "  plt.imshow(image)\n",
    "  plt.show()\n",
    "  "
   ]
  },
  {
   "cell_type": "markdown",
   "metadata": {},
   "source": [
    "### Plot Augmented Validation and Test Images"
   ]
  },
  {
   "cell_type": "code",
   "execution_count": 55,
   "metadata": {},
   "outputs": [
    {
     "name": "stdout",
     "output_type": "stream",
     "text": [
      "(20, 256, 256, 3)\n",
      "Image 0 has unexpected shape: (20, 256, 256, 3)\n"
     ]
    },
    {
     "name": "stdout",
     "output_type": "stream",
     "text": [
      "(20, 256, 256, 3)\n",
      "Image 1 has unexpected shape: (20, 256, 256, 3)\n",
      "(20, 256, 256, 3)\n",
      "Image 2 has unexpected shape: (20, 256, 256, 3)\n"
     ]
    }
   ],
   "source": [
    "import matplotlib.pyplot as plt\n",
    "from tensorflow.keras.preprocessing.image import DirectoryIterator\n",
    "\n",
    "for i in range(3):\n",
    "  try:\n",
    "    img, label = validation_set[i]\n",
    "    print(img.shape)\n",
    "\n",
    "    if len(img.shape) != 3:\n",
    "        print(f\"Image {i} has unexpected shape: {img.shape}\")\n",
    "        continue\n",
    "\n",
    "    plt.imshow(img)\n",
    "    plt.show()\n",
    "  except IndexError:\n",
    "    print(\"Reached end of validation set\")\n",
    "    break"
   ]
  },
  {
   "cell_type": "code",
   "execution_count": 56,
   "metadata": {},
   "outputs": [
    {
     "name": "stdout",
     "output_type": "stream",
     "text": [
      "(20, 256, 256, 3)\n",
      "Image 0 has unexpected shape: (20, 256, 256, 3)\n",
      "(20, 256, 256, 3)\n",
      "Image 1 has unexpected shape: (20, 256, 256, 3)\n",
      "(20, 256, 256, 3)\n",
      "Image 2 has unexpected shape: (20, 256, 256, 3)\n"
     ]
    }
   ],
   "source": [
    "import matplotlib.pyplot as plt\n",
    "from tensorflow.keras.preprocessing.image import DirectoryIterator\n",
    "\n",
    "for i in range(3):\n",
    "  try:\n",
    "    img, label = test_set[i]\n",
    "    print(img.shape)\n",
    "\n",
    "\n",
    "    if len(img.shape) != 3:\n",
    "      print(f\"Image {i} has unexpected shape: {img.shape}\")\n",
    "      continue\n",
    "\n",
    "    if img.shape[0] != 256:\n",
    "      img = img[..., :3]\n",
    "\n",
    "    plt.imshow(img)\n",
    "    plt.show()\n",
    "  except IndexError:\n",
    "    print(\"Reached end of test set\")\n",
    "    break"
   ]
  },
  {
   "cell_type": "markdown",
   "metadata": {},
   "source": [
    "### Saving of Class Indicies"
   ]
  },
  {
   "cell_type": "code",
   "execution_count": 57,
   "metadata": {},
   "outputs": [
    {
     "data": {
      "text/plain": [
       "['outputs/v1/class_indices.pkl']"
      ]
     },
     "execution_count": 57,
     "metadata": {},
     "output_type": "execute_result"
    }
   ],
   "source": [
    "import joblib\n",
    "joblib.dump(value=train_set.class_indices,\n",
    "            filename=f\"{file_path}/class_indices.pkl\")"
   ]
  },
  {
   "cell_type": "markdown",
   "metadata": {},
   "source": [
    "---"
   ]
  },
  {
   "cell_type": "markdown",
   "metadata": {},
   "source": [
    "## Model Creation"
   ]
  },
  {
   "cell_type": "markdown",
   "metadata": {},
   "source": [
    "---"
   ]
  },
  {
   "cell_type": "markdown",
   "metadata": {},
   "source": [
    "### Model for Machine Learning"
   ]
  },
  {
   "cell_type": "code",
   "execution_count": 58,
   "metadata": {},
   "outputs": [
    {
     "data": {
      "text/plain": [
       "['outputs/v1/class_indices.pkl']"
      ]
     },
     "execution_count": 58,
     "metadata": {},
     "output_type": "execute_result"
    }
   ],
   "source": [
    "import joblib\n",
    "joblib.dump(value=train_set.class_indices,\n",
    "            filename=f\"{file_path}/class_indices.pkl\")"
   ]
  },
  {
   "cell_type": "markdown",
   "metadata": {},
   "source": [
    "* Import model packages for creation on model"
   ]
  },
  {
   "cell_type": "code",
   "execution_count": 59,
   "metadata": {},
   "outputs": [],
   "source": [
    "from tensorflow.keras.layers import Conv2D, MaxPooling2D, Flatten, Dense, Dropout\n",
    "from tensorflow.keras.models import Sequential"
   ]
  },
  {
   "cell_type": "markdown",
   "metadata": {},
   "source": [
    "* Models used by TensorFlow/Keras"
   ]
  },
  {
   "cell_type": "code",
   "execution_count": 60,
   "metadata": {},
   "outputs": [],
   "source": [
    "def create_tf_model(image_shape):\n",
    "\n",
    "    model = Sequential()\n",
    "\n",
    "    model.add(Conv2D(filters=32, kernel_size=(3, 3),\n",
    "              input_shape=image_shape, activation='relu', ))\n",
    "    model.add(MaxPooling2D(pool_size=(2, 2)))\n",
    "\n",
    "    model.add(Conv2D(filters=64, kernel_size=(3, 3),\n",
    "              input_shape=image_shape, activation='relu', ))\n",
    "    model.add(MaxPooling2D(pool_size=(2, 2)))\n",
    "\n",
    "    model.add(Conv2D(filters=64, kernel_size=(3, 3),\n",
    "              input_shape=image_shape, activation='relu', ))\n",
    "    model.add(MaxPooling2D(pool_size=(2, 2)))\n",
    "\n",
    "    model.add(Flatten())\n",
    "    model.add(Dense(128, activation='relu'))\n",
    "\n",
    "    model.add(Dropout(0.5))\n",
    "    model.add(Dense(1, activation='sigmoid'))\n",
    "\n",
    "    model.compile(loss='binary_crossentropy',\n",
    "                  optimizer='adam',\n",
    "                  metrics=['accuracy'])\n",
    "\n",
    "    return model\n",
    "\n",
    "\n"
   ]
  },
  {
   "cell_type": "markdown",
   "metadata": {},
   "source": [
    "* Model Summarization"
   ]
  },
  {
   "cell_type": "code",
   "execution_count": 61,
   "metadata": {},
   "outputs": [
    {
     "name": "stderr",
     "output_type": "stream",
     "text": [
      "/workspace/.pyenv_mirror/user/current/lib/python3.12/site-packages/keras/src/layers/convolutional/base_conv.py:107: UserWarning: Do not pass an `input_shape`/`input_dim` argument to a layer. When using Sequential models, prefer using an `Input(shape)` object as the first layer in the model instead.\n",
      "  super().__init__(activity_regularizer=activity_regularizer, **kwargs)\n"
     ]
    },
    {
     "data": {
      "text/html": [
       "<pre style=\"white-space:pre;overflow-x:auto;line-height:normal;font-family:Menlo,'DejaVu Sans Mono',consolas,'Courier New',monospace\"><span style=\"font-weight: bold\">Model: \"sequential_1\"</span>\n",
       "</pre>\n"
      ],
      "text/plain": [
       "\u001b[1mModel: \"sequential_1\"\u001b[0m\n"
      ]
     },
     "metadata": {},
     "output_type": "display_data"
    },
    {
     "data": {
      "text/html": [
       "<pre style=\"white-space:pre;overflow-x:auto;line-height:normal;font-family:Menlo,'DejaVu Sans Mono',consolas,'Courier New',monospace\">┏━━━━━━━━━━━━━━━━━━━━━━━━━━━━━━━━━┳━━━━━━━━━━━━━━━━━━━━━━━━┳━━━━━━━━━━━━━━━┓\n",
       "┃<span style=\"font-weight: bold\"> Layer (type)                    </span>┃<span style=\"font-weight: bold\"> Output Shape           </span>┃<span style=\"font-weight: bold\">       Param # </span>┃\n",
       "┡━━━━━━━━━━━━━━━━━━━━━━━━━━━━━━━━━╇━━━━━━━━━━━━━━━━━━━━━━━━╇━━━━━━━━━━━━━━━┩\n",
       "│ conv2d_3 (<span style=\"color: #0087ff; text-decoration-color: #0087ff\">Conv2D</span>)               │ (<span style=\"color: #00d7ff; text-decoration-color: #00d7ff\">None</span>, <span style=\"color: #00af00; text-decoration-color: #00af00\">254</span>, <span style=\"color: #00af00; text-decoration-color: #00af00\">254</span>, <span style=\"color: #00af00; text-decoration-color: #00af00\">32</span>)   │           <span style=\"color: #00af00; text-decoration-color: #00af00\">896</span> │\n",
       "├─────────────────────────────────┼────────────────────────┼───────────────┤\n",
       "│ max_pooling2d_3 (<span style=\"color: #0087ff; text-decoration-color: #0087ff\">MaxPooling2D</span>)  │ (<span style=\"color: #00d7ff; text-decoration-color: #00d7ff\">None</span>, <span style=\"color: #00af00; text-decoration-color: #00af00\">127</span>, <span style=\"color: #00af00; text-decoration-color: #00af00\">127</span>, <span style=\"color: #00af00; text-decoration-color: #00af00\">32</span>)   │             <span style=\"color: #00af00; text-decoration-color: #00af00\">0</span> │\n",
       "├─────────────────────────────────┼────────────────────────┼───────────────┤\n",
       "│ conv2d_4 (<span style=\"color: #0087ff; text-decoration-color: #0087ff\">Conv2D</span>)               │ (<span style=\"color: #00d7ff; text-decoration-color: #00d7ff\">None</span>, <span style=\"color: #00af00; text-decoration-color: #00af00\">125</span>, <span style=\"color: #00af00; text-decoration-color: #00af00\">125</span>, <span style=\"color: #00af00; text-decoration-color: #00af00\">64</span>)   │        <span style=\"color: #00af00; text-decoration-color: #00af00\">18,496</span> │\n",
       "├─────────────────────────────────┼────────────────────────┼───────────────┤\n",
       "│ max_pooling2d_4 (<span style=\"color: #0087ff; text-decoration-color: #0087ff\">MaxPooling2D</span>)  │ (<span style=\"color: #00d7ff; text-decoration-color: #00d7ff\">None</span>, <span style=\"color: #00af00; text-decoration-color: #00af00\">62</span>, <span style=\"color: #00af00; text-decoration-color: #00af00\">62</span>, <span style=\"color: #00af00; text-decoration-color: #00af00\">64</span>)     │             <span style=\"color: #00af00; text-decoration-color: #00af00\">0</span> │\n",
       "├─────────────────────────────────┼────────────────────────┼───────────────┤\n",
       "│ conv2d_5 (<span style=\"color: #0087ff; text-decoration-color: #0087ff\">Conv2D</span>)               │ (<span style=\"color: #00d7ff; text-decoration-color: #00d7ff\">None</span>, <span style=\"color: #00af00; text-decoration-color: #00af00\">60</span>, <span style=\"color: #00af00; text-decoration-color: #00af00\">60</span>, <span style=\"color: #00af00; text-decoration-color: #00af00\">64</span>)     │        <span style=\"color: #00af00; text-decoration-color: #00af00\">36,928</span> │\n",
       "├─────────────────────────────────┼────────────────────────┼───────────────┤\n",
       "│ max_pooling2d_5 (<span style=\"color: #0087ff; text-decoration-color: #0087ff\">MaxPooling2D</span>)  │ (<span style=\"color: #00d7ff; text-decoration-color: #00d7ff\">None</span>, <span style=\"color: #00af00; text-decoration-color: #00af00\">30</span>, <span style=\"color: #00af00; text-decoration-color: #00af00\">30</span>, <span style=\"color: #00af00; text-decoration-color: #00af00\">64</span>)     │             <span style=\"color: #00af00; text-decoration-color: #00af00\">0</span> │\n",
       "├─────────────────────────────────┼────────────────────────┼───────────────┤\n",
       "│ flatten_1 (<span style=\"color: #0087ff; text-decoration-color: #0087ff\">Flatten</span>)             │ (<span style=\"color: #00d7ff; text-decoration-color: #00d7ff\">None</span>, <span style=\"color: #00af00; text-decoration-color: #00af00\">57600</span>)          │             <span style=\"color: #00af00; text-decoration-color: #00af00\">0</span> │\n",
       "├─────────────────────────────────┼────────────────────────┼───────────────┤\n",
       "│ dense_2 (<span style=\"color: #0087ff; text-decoration-color: #0087ff\">Dense</span>)                 │ (<span style=\"color: #00d7ff; text-decoration-color: #00d7ff\">None</span>, <span style=\"color: #00af00; text-decoration-color: #00af00\">128</span>)            │     <span style=\"color: #00af00; text-decoration-color: #00af00\">7,372,928</span> │\n",
       "├─────────────────────────────────┼────────────────────────┼───────────────┤\n",
       "│ dropout_1 (<span style=\"color: #0087ff; text-decoration-color: #0087ff\">Dropout</span>)             │ (<span style=\"color: #00d7ff; text-decoration-color: #00d7ff\">None</span>, <span style=\"color: #00af00; text-decoration-color: #00af00\">128</span>)            │             <span style=\"color: #00af00; text-decoration-color: #00af00\">0</span> │\n",
       "├─────────────────────────────────┼────────────────────────┼───────────────┤\n",
       "│ dense_3 (<span style=\"color: #0087ff; text-decoration-color: #0087ff\">Dense</span>)                 │ (<span style=\"color: #00d7ff; text-decoration-color: #00d7ff\">None</span>, <span style=\"color: #00af00; text-decoration-color: #00af00\">1</span>)              │           <span style=\"color: #00af00; text-decoration-color: #00af00\">129</span> │\n",
       "└─────────────────────────────────┴────────────────────────┴───────────────┘\n",
       "</pre>\n"
      ],
      "text/plain": [
       "┏━━━━━━━━━━━━━━━━━━━━━━━━━━━━━━━━━┳━━━━━━━━━━━━━━━━━━━━━━━━┳━━━━━━━━━━━━━━━┓\n",
       "┃\u001b[1m \u001b[0m\u001b[1mLayer (type)                   \u001b[0m\u001b[1m \u001b[0m┃\u001b[1m \u001b[0m\u001b[1mOutput Shape          \u001b[0m\u001b[1m \u001b[0m┃\u001b[1m \u001b[0m\u001b[1m      Param #\u001b[0m\u001b[1m \u001b[0m┃\n",
       "┡━━━━━━━━━━━━━━━━━━━━━━━━━━━━━━━━━╇━━━━━━━━━━━━━━━━━━━━━━━━╇━━━━━━━━━━━━━━━┩\n",
       "│ conv2d_3 (\u001b[38;5;33mConv2D\u001b[0m)               │ (\u001b[38;5;45mNone\u001b[0m, \u001b[38;5;34m254\u001b[0m, \u001b[38;5;34m254\u001b[0m, \u001b[38;5;34m32\u001b[0m)   │           \u001b[38;5;34m896\u001b[0m │\n",
       "├─────────────────────────────────┼────────────────────────┼───────────────┤\n",
       "│ max_pooling2d_3 (\u001b[38;5;33mMaxPooling2D\u001b[0m)  │ (\u001b[38;5;45mNone\u001b[0m, \u001b[38;5;34m127\u001b[0m, \u001b[38;5;34m127\u001b[0m, \u001b[38;5;34m32\u001b[0m)   │             \u001b[38;5;34m0\u001b[0m │\n",
       "├─────────────────────────────────┼────────────────────────┼───────────────┤\n",
       "│ conv2d_4 (\u001b[38;5;33mConv2D\u001b[0m)               │ (\u001b[38;5;45mNone\u001b[0m, \u001b[38;5;34m125\u001b[0m, \u001b[38;5;34m125\u001b[0m, \u001b[38;5;34m64\u001b[0m)   │        \u001b[38;5;34m18,496\u001b[0m │\n",
       "├─────────────────────────────────┼────────────────────────┼───────────────┤\n",
       "│ max_pooling2d_4 (\u001b[38;5;33mMaxPooling2D\u001b[0m)  │ (\u001b[38;5;45mNone\u001b[0m, \u001b[38;5;34m62\u001b[0m, \u001b[38;5;34m62\u001b[0m, \u001b[38;5;34m64\u001b[0m)     │             \u001b[38;5;34m0\u001b[0m │\n",
       "├─────────────────────────────────┼────────────────────────┼───────────────┤\n",
       "│ conv2d_5 (\u001b[38;5;33mConv2D\u001b[0m)               │ (\u001b[38;5;45mNone\u001b[0m, \u001b[38;5;34m60\u001b[0m, \u001b[38;5;34m60\u001b[0m, \u001b[38;5;34m64\u001b[0m)     │        \u001b[38;5;34m36,928\u001b[0m │\n",
       "├─────────────────────────────────┼────────────────────────┼───────────────┤\n",
       "│ max_pooling2d_5 (\u001b[38;5;33mMaxPooling2D\u001b[0m)  │ (\u001b[38;5;45mNone\u001b[0m, \u001b[38;5;34m30\u001b[0m, \u001b[38;5;34m30\u001b[0m, \u001b[38;5;34m64\u001b[0m)     │             \u001b[38;5;34m0\u001b[0m │\n",
       "├─────────────────────────────────┼────────────────────────┼───────────────┤\n",
       "│ flatten_1 (\u001b[38;5;33mFlatten\u001b[0m)             │ (\u001b[38;5;45mNone\u001b[0m, \u001b[38;5;34m57600\u001b[0m)          │             \u001b[38;5;34m0\u001b[0m │\n",
       "├─────────────────────────────────┼────────────────────────┼───────────────┤\n",
       "│ dense_2 (\u001b[38;5;33mDense\u001b[0m)                 │ (\u001b[38;5;45mNone\u001b[0m, \u001b[38;5;34m128\u001b[0m)            │     \u001b[38;5;34m7,372,928\u001b[0m │\n",
       "├─────────────────────────────────┼────────────────────────┼───────────────┤\n",
       "│ dropout_1 (\u001b[38;5;33mDropout\u001b[0m)             │ (\u001b[38;5;45mNone\u001b[0m, \u001b[38;5;34m128\u001b[0m)            │             \u001b[38;5;34m0\u001b[0m │\n",
       "├─────────────────────────────────┼────────────────────────┼───────────────┤\n",
       "│ dense_3 (\u001b[38;5;33mDense\u001b[0m)                 │ (\u001b[38;5;45mNone\u001b[0m, \u001b[38;5;34m1\u001b[0m)              │           \u001b[38;5;34m129\u001b[0m │\n",
       "└─────────────────────────────────┴────────────────────────┴───────────────┘\n"
      ]
     },
     "metadata": {},
     "output_type": "display_data"
    },
    {
     "data": {
      "text/html": [
       "<pre style=\"white-space:pre;overflow-x:auto;line-height:normal;font-family:Menlo,'DejaVu Sans Mono',consolas,'Courier New',monospace\"><span style=\"font-weight: bold\"> Total params: </span><span style=\"color: #00af00; text-decoration-color: #00af00\">7,429,377</span> (28.34 MB)\n",
       "</pre>\n"
      ],
      "text/plain": [
       "\u001b[1m Total params: \u001b[0m\u001b[38;5;34m7,429,377\u001b[0m (28.34 MB)\n"
      ]
     },
     "metadata": {},
     "output_type": "display_data"
    },
    {
     "data": {
      "text/html": [
       "<pre style=\"white-space:pre;overflow-x:auto;line-height:normal;font-family:Menlo,'DejaVu Sans Mono',consolas,'Courier New',monospace\"><span style=\"font-weight: bold\"> Trainable params: </span><span style=\"color: #00af00; text-decoration-color: #00af00\">7,429,377</span> (28.34 MB)\n",
       "</pre>\n"
      ],
      "text/plain": [
       "\u001b[1m Trainable params: \u001b[0m\u001b[38;5;34m7,429,377\u001b[0m (28.34 MB)\n"
      ]
     },
     "metadata": {},
     "output_type": "display_data"
    },
    {
     "data": {
      "text/html": [
       "<pre style=\"white-space:pre;overflow-x:auto;line-height:normal;font-family:Menlo,'DejaVu Sans Mono',consolas,'Courier New',monospace\"><span style=\"font-weight: bold\"> Non-trainable params: </span><span style=\"color: #00af00; text-decoration-color: #00af00\">0</span> (0.00 B)\n",
       "</pre>\n"
      ],
      "text/plain": [
       "\u001b[1m Non-trainable params: \u001b[0m\u001b[38;5;34m0\u001b[0m (0.00 B)\n"
      ]
     },
     "metadata": {},
     "output_type": "display_data"
    }
   ],
   "source": [
    "image_shape = (256, 256, 3)\n",
    "model = create_tf_model(image_shape)\n",
    "model.summary()"
   ]
  },
  {
   "cell_type": "markdown",
   "metadata": {},
   "source": [
    "* Early Stopping Model"
   ]
  },
  {
   "cell_type": "code",
   "execution_count": 62,
   "metadata": {},
   "outputs": [],
   "source": [
    "from tensorflow.keras.layers import Conv2D, MaxPooling2D, Flatten, Dense, Dropout\n",
    "from tensorflow.keras.models import Sequential\n",
    "from tensorflow.keras.callbacks import EarlyStopping\n",
    "early_stop = EarlyStopping(monitor='val_loss', patience=3)"
   ]
  },
  {
   "cell_type": "markdown",
   "metadata": {},
   "source": [
    "### Adjust model to fit for Model Training"
   ]
  },
  {
   "cell_type": "code",
   "execution_count": 63,
   "metadata": {},
   "outputs": [
    {
     "name": "stdout",
     "output_type": "stream",
     "text": [
      "Epoch 1/25\n"
     ]
    },
    {
     "name": "stderr",
     "output_type": "stream",
     "text": [
      "/workspace/.pyenv_mirror/user/current/lib/python3.12/site-packages/keras/src/trainers/data_adapters/py_dataset_adapter.py:121: UserWarning: Your `PyDataset` class should call `super().__init__(**kwargs)` in its constructor. `**kwargs` can include `workers`, `use_multiprocessing`, `max_queue_size`. Do not pass these arguments to `fit()`, as they will be ignored.\n",
      "  self._warn_if_super_not_called()\n"
     ]
    },
    {
     "name": "stdout",
     "output_type": "stream",
     "text": [
      "\u001b[1m147/147\u001b[0m \u001b[32m━━━━━━━━━━━━━━━━━━━━\u001b[0m\u001b[37m\u001b[0m \u001b[1m117s\u001b[0m 780ms/step - accuracy: 0.7668 - loss: 0.4577 - val_accuracy: 0.9929 - val_loss: 0.0139\n",
      "Epoch 2/25\n",
      "\u001b[1m  1/147\u001b[0m \u001b[37m━━━━━━━━━━━━━━━━━━━━\u001b[0m \u001b[1m1:42\u001b[0m 705ms/step - accuracy: 1.0000 - loss: 0.0020"
     ]
    },
    {
     "name": "stderr",
     "output_type": "stream",
     "text": [
      "2024-06-27 16:08:14.867346: W tensorflow/core/framework/local_rendezvous.cc:404] Local rendezvous is aborting with status: OUT_OF_RANGE: End of sequence\n",
      "\t [[{{node IteratorGetNext}}]]\n",
      "/home/gitpod/.pyenv/versions/3.12.3/lib/python3.12/contextlib.py:158: UserWarning: Your input ran out of data; interrupting training. Make sure that your dataset or generator can generate at least `steps_per_epoch * epochs` batches. You may need to use the `.repeat()` function when building your dataset.\n",
      "  self.gen.throw(value)\n"
     ]
    },
    {
     "name": "stdout",
     "output_type": "stream",
     "text": [
      "\u001b[1m147/147\u001b[0m \u001b[32m━━━━━━━━━━━━━━━━━━━━\u001b[0m\u001b[37m\u001b[0m \u001b[1m5s\u001b[0m 32ms/step - accuracy: 1.0000 - loss: 0.0020 - val_accuracy: 0.9952 - val_loss: 0.0133\n",
      "Epoch 3/25\n",
      "\u001b[1m147/147\u001b[0m \u001b[32m━━━━━━━━━━━━━━━━━━━━\u001b[0m\u001b[37m\u001b[0m \u001b[1m117s\u001b[0m 792ms/step - accuracy: 0.9819 - loss: 0.0502 - val_accuracy: 1.0000 - val_loss: 0.0025\n",
      "Epoch 4/25\n",
      "\u001b[1m  1/147\u001b[0m \u001b[37m━━━━━━━━━━━━━━━━━━━━\u001b[0m \u001b[1m1:42\u001b[0m 699ms/step - accuracy: 1.0000 - loss: 7.9165e-04"
     ]
    },
    {
     "name": "stderr",
     "output_type": "stream",
     "text": [
      "2024-06-27 16:10:16.768189: W tensorflow/core/framework/local_rendezvous.cc:404] Local rendezvous is aborting with status: OUT_OF_RANGE: End of sequence\n",
      "\t [[{{node IteratorGetNext}}]]\n"
     ]
    },
    {
     "name": "stdout",
     "output_type": "stream",
     "text": [
      "\u001b[1m147/147\u001b[0m \u001b[32m━━━━━━━━━━━━━━━━━━━━\u001b[0m\u001b[37m\u001b[0m \u001b[1m5s\u001b[0m 31ms/step - accuracy: 1.0000 - loss: 7.9165e-04 - val_accuracy: 1.0000 - val_loss: 0.0016\n",
      "Epoch 5/25\n",
      "\u001b[1m147/147\u001b[0m \u001b[32m━━━━━━━━━━━━━━━━━━━━\u001b[0m\u001b[37m\u001b[0m \u001b[1m114s\u001b[0m 778ms/step - accuracy: 0.9968 - loss: 0.0123 - val_accuracy: 0.9929 - val_loss: 0.0272\n",
      "Epoch 6/25\n",
      "\u001b[1m  1/147\u001b[0m \u001b[37m━━━━━━━━━━━━━━━━━━━━\u001b[0m \u001b[1m1:42\u001b[0m 703ms/step - accuracy: 1.0000 - loss: 0.0056"
     ]
    },
    {
     "name": "stderr",
     "output_type": "stream",
     "text": [
      "2024-06-27 16:12:16.475344: W tensorflow/core/framework/local_rendezvous.cc:404] Local rendezvous is aborting with status: OUT_OF_RANGE: End of sequence\n",
      "\t [[{{node IteratorGetNext}}]]\n"
     ]
    },
    {
     "name": "stdout",
     "output_type": "stream",
     "text": [
      "\u001b[1m147/147\u001b[0m \u001b[32m━━━━━━━━━━━━━━━━━━━━\u001b[0m\u001b[37m\u001b[0m \u001b[1m5s\u001b[0m 31ms/step - accuracy: 1.0000 - loss: 0.0056 - val_accuracy: 0.9952 - val_loss: 0.0465\n",
      "Epoch 7/25\n",
      "\u001b[1m147/147\u001b[0m \u001b[32m━━━━━━━━━━━━━━━━━━━━\u001b[0m\u001b[37m\u001b[0m \u001b[1m120s\u001b[0m 817ms/step - accuracy: 0.9929 - loss: 0.0205 - val_accuracy: 0.9976 - val_loss: 0.0077\n"
     ]
    },
    {
     "data": {
      "text/plain": [
       "<keras.src.callbacks.history.History at 0x7fa6a4423e00>"
      ]
     },
     "execution_count": 63,
     "metadata": {},
     "output_type": "execute_result"
    }
   ],
   "source": [
    "def create_tf_model(image_shape):\n",
    "  model = Sequential()\n",
    "\n",
    "  return model\n",
    "image_shape = (256, 256, 3)\n",
    "\n",
    "model.fit(train_set,\n",
    "          epochs=25,\n",
    "          steps_per_epoch=len(train_set.classes) // batch_size,\n",
    "          validation_data=validation_set,\n",
    "          callbacks=[early_stop],\n",
    "          verbose=1)\n",
    "\n"
   ]
  },
  {
   "cell_type": "markdown",
   "metadata": {},
   "source": [
    "### Save model to .h5"
   ]
  },
  {
   "cell_type": "code",
   "execution_count": 64,
   "metadata": {},
   "outputs": [
    {
     "name": "stderr",
     "output_type": "stream",
     "text": [
      "WARNING:absl:You are saving your model as an HDF5 file via `model.save()` or `keras.saving.save_model(model)`. This file format is considered legacy. We recommend using instead the native Keras format, e.g. `model.save('my_model.keras')` or `keras.saving.save_model(model, 'my_model.keras')`. \n"
     ]
    }
   ],
   "source": [
    "model.save('outputs/v1/mildew_detector_model.h5')"
   ]
  },
  {
   "cell_type": "markdown",
   "metadata": {},
   "source": [
    "# Machine Learning Model Performance Data"
   ]
  },
  {
   "cell_type": "markdown",
   "metadata": {},
   "source": [
    "---"
   ]
  },
  {
   "cell_type": "markdown",
   "metadata": {},
   "source": [
    "## Model Learning Curve for the Cherry Leaves<br> Healthy to Powdery-Mildew Dataset"
   ]
  },
  {
   "cell_type": "code",
   "execution_count": 65,
   "metadata": {},
   "outputs": [
    {
     "data": {
      "image/png": "[encoded data removed]",
      "text/plain": [
       "<Figure size 640x480 with 1 Axes>"
      ]
     },
     "metadata": {},
     "output_type": "display_data"
    },
    {
     "name": "stdout",
     "output_type": "stream",
     "text": [
      "\n",
      "\n"
     ]
    },
    {
     "data": {
      "image/png": "[encoded data removed]",
      "text/plain": [
       "<Figure size 640x480 with 1 Axes>"
      ]
     },
     "metadata": {},
     "output_type": "display_data"
    }
   ],
   "source": [
    "losses = pd.DataFrame(model.history.history)\n",
    "\n",
    "sns.set_style(\"whitegrid\")\n",
    "losses[['loss', 'val_loss']].plot(style='.-')\n",
    "plt.title(\"Loss\")\n",
    "plt.savefig(f'{file_path}/model_training_losses.jpg',\n",
    "            bbox_inches='tight', dpi=150)\n",
    "plt.show()\n",
    "\n",
    "print(\"\\n\")\n",
    "losses[['accuracy', 'val_accuracy']].plot(style='.-')\n",
    "plt.title(\"Accuracy\")\n",
    "plt.savefig(f'{file_path}/model_training_acc.jpg',\n",
    "            bbox_inches='tight', dpi=150)\n",
    "plt.show()"
   ]
  },
  {
   "cell_type": "markdown",
   "metadata": {},
   "source": [
    "### Load ML Model"
   ]
  },
  {
   "cell_type": "markdown",
   "metadata": {},
   "source": [
    "* Load Saved Model in file format .h5 for use future ML applications"
   ]
  },
  {
   "cell_type": "code",
   "execution_count": 66,
   "metadata": {},
   "outputs": [
    {
     "name": "stderr",
     "output_type": "stream",
     "text": [
      "WARNING:absl:Compiled the loaded model, but the compiled metrics have yet to be built. `model.compile_metrics` will be empty until you train or evaluate the model.\n"
     ]
    }
   ],
   "source": [
    "from keras.models import load_model\n",
    "model = load_model('outputs/v1/mildew_detector_model.h5')"
   ]
  },
  {
   "cell_type": "markdown",
   "metadata": {},
   "source": [
    "Model evaluation of Test Set, preparing for Evaluation Pickle"
   ]
  },
  {
   "cell_type": "code",
   "execution_count": 67,
   "metadata": {},
   "outputs": [
    {
     "name": "stdout",
     "output_type": "stream",
     "text": [
      "\u001b[1m 1/43\u001b[0m \u001b[37m━━━━━━━━━━━━━━━━━━━━\u001b[0m \u001b[1m17s\u001b[0m 410ms/step - accuracy: 1.0000 - loss: 1.1210e-05"
     ]
    },
    {
     "name": "stderr",
     "output_type": "stream",
     "text": [
      "/workspace/.pyenv_mirror/user/current/lib/python3.12/site-packages/keras/src/trainers/data_adapters/py_dataset_adapter.py:121: UserWarning: Your `PyDataset` class should call `super().__init__(**kwargs)` in its constructor. `**kwargs` can include `workers`, `use_multiprocessing`, `max_queue_size`. Do not pass these arguments to `fit()`, as they will be ignored.\n",
      "  self._warn_if_super_not_called()\n"
     ]
    },
    {
     "name": "stdout",
     "output_type": "stream",
     "text": [
      "\u001b[1m43/43\u001b[0m \u001b[32m━━━━━━━━━━━━━━━━━━━━\u001b[0m\u001b[37m\u001b[0m \u001b[1m9s\u001b[0m 210ms/step - accuracy: 1.0000 - loss: 4.4438e-04\n"
     ]
    }
   ],
   "source": [
    "evaluation = model.evaluate(test_set)"
   ]
  },
  {
   "cell_type": "markdown",
   "metadata": {},
   "source": [
    "* Save Evaluation Pickle to file format .pkl"
   ]
  },
  {
   "cell_type": "code",
   "execution_count": 68,
   "metadata": {},
   "outputs": [
    {
     "data": {
      "text/plain": [
       "['outputs/v1/evaluation.pkl']"
      ]
     },
     "execution_count": 68,
     "metadata": {},
     "output_type": "execute_result"
    }
   ],
   "source": [
    "joblib.dump(value=evaluation,\n",
    "            filename=f\"outputs/v1/evaluation.pkl\")"
   ]
  },
  {
   "cell_type": "markdown",
   "metadata": {},
   "source": [
    "### Prediction of New data"
   ]
  },
  {
   "cell_type": "markdown",
   "metadata": {},
   "source": [
    "* Loading a random image as a PIL Image"
   ]
  },
  {
   "cell_type": "code",
   "execution_count": 69,
   "metadata": {},
   "outputs": [
    {
     "name": "stdout",
     "output_type": "stream",
     "text": [
      "Image shape: (256, 256), Image mode: RGB\n"
     ]
    },
    {
     "data": {
      "image/jpeg": "[encoded data removed]",
      "image/png": "[encoded data removed]",
      "text/plain": [
       "<PIL.JpegImagePlugin.JpegImageFile image mode=RGB size=256x256>"
      ]
     },
     "execution_count": 69,
     "metadata": {},
     "output_type": "execute_result"
    }
   ],
   "source": [
    "from tensorflow.keras.preprocessing import image\n",
    "\n",
    "pointer = 66\n",
    "label = labels[0]\n",
    "\n",
    "pil_image = image.load_img(test_path + '/' + label + '/' + os.listdir(test_path+'/' + label)[pointer],\n",
    "                           target_size=image_shape, color_mode='rgb')\n",
    "print(f'Image shape: {pil_image.size}, Image mode: {pil_image.mode}')\n",
    "pil_image"
   ]
  },
  {
   "cell_type": "markdown",
   "metadata": {},
   "source": [
    "* Prepare the image for prediction, by converting to an array "
   ]
  },
  {
   "cell_type": "code",
   "execution_count": 70,
   "metadata": {},
   "outputs": [
    {
     "name": "stdout",
     "output_type": "stream",
     "text": [
      "(1, 256, 256, 3)\n"
     ]
    }
   ],
   "source": [
    "my_image = image.img_to_array(pil_image)\n",
    "my_image = np.expand_dims(my_image, axis=0)/255\n",
    "print(my_image.shape)"
   ]
  },
  {
   "cell_type": "markdown",
   "metadata": {},
   "source": [
    "* Prediction of Class Propabilities"
   ]
  },
  {
   "cell_type": "code",
   "execution_count": 71,
   "metadata": {},
   "outputs": [
    {
     "name": "stdout",
     "output_type": "stream",
     "text": [
      "\u001b[1m1/1\u001b[0m \u001b[32m━━━━━━━━━━━━━━━━━━━━\u001b[0m\u001b[37m\u001b[0m \u001b[1m0s\u001b[0m 89ms/step\n",
      "0.9999989523890918\n",
      "healthy\n"
     ]
    }
   ],
   "source": [
    "pred_proba = model.predict(my_image)[0, 0]\n",
    "\n",
    "target_map = {v: k for k, v in train_set.class_indices.items()}\n",
    "pred_class = target_map[pred_proba > 0.5]\n",
    "\n",
    "if pred_class == target_map[0]:\n",
    "    pred_proba = 1 - pred_proba\n",
    "\n",
    "print(pred_proba)\n",
    "print(pred_class)"
   ]
  },
  {
   "cell_type": "markdown",
   "metadata": {},
   "source": [
    "### Push files to GitHub Repository"
   ]
  },
  {
   "cell_type": "markdown",
   "metadata": {},
   "source": [
    "**Upload your Current Machine Learning files to your GitHub repository**"
   ]
  },
  {
   "cell_type": "markdown",
   "metadata": {},
   "source": [
    "* Add .gitignore, this secures you from uploading unneccesary, or non public information."
   ]
  },
  {
   "cell_type": "code",
   "execution_count": 72,
   "metadata": {},
   "outputs": [
    {
     "name": "stdout",
     "output_type": "stream",
     "text": [
      "inputs\n",
      "outputs\n",
      "kaggle.json\n",
      "*.ipynb\n",
      "src\n",
      "app_pages/__pycache__\n",
      ".vscode\n",
      "workspace"
     ]
    }
   ],
   "source": [
    "!cat .gitignore"
   ]
  },
  {
   "cell_type": "markdown",
   "metadata": {},
   "source": [
    "* Get current status from your pending session files, that have not been uploaded."
   ]
  },
  {
   "cell_type": "code",
   "execution_count": 73,
   "metadata": {},
   "outputs": [
    {
     "name": "stdout",
     "output_type": "stream",
     "text": [
      "On branch main\n",
      "Your branch is up to date with 'origin/main'.\n",
      "\n",
      "Changes not staged for commit:\n",
      "  (use \"git add <file>...\" to update what will be committed)\n",
      "  (use \"git restore <file>...\" to discard changes in working directory)\n",
      "\t\u001b[31mmodified:   jupyter_notebooks/01 - DataCollection.ipynb\u001b[m\n",
      "\t\u001b[31mmodified:   jupyter_notebooks/02 - DataVisualization.ipynb\u001b[m\n",
      "\t\u001b[31mmodified:   jupyter_notebooks/03 - Modelling and Evaluation.ipynb\u001b[m\n",
      "\t\u001b[31mmodified:   outputs/v1/diff_avg_powdery_mildew_healthy.png\u001b[m\n",
      "\t\u001b[31mmodified:   outputs/v1/evaluation.pkl\u001b[m\n",
      "\t\u001b[31mmodified:   outputs/v1/mildew_detector_model.h5\u001b[m\n",
      "\t\u001b[31mmodified:   outputs/v1/model_training_acc.jpg\u001b[m\n",
      "\t\u001b[31mmodified:   outputs/v1/model_training_losses.jpg\u001b[m\n",
      "\n",
      "no changes added to commit (use \"git add\" and/or \"git commit -a\")\n"
     ]
    }
   ],
   "source": [
    "!git status"
   ]
  },
  {
   "cell_type": "markdown",
   "metadata": {},
   "source": [
    "* Add your current session files, and prepare them for push to your GitHub repository."
   ]
  },
  {
   "cell_type": "code",
   "execution_count": 74,
   "metadata": {},
   "outputs": [],
   "source": [
    "!git add ."
   ]
  },
  {
   "cell_type": "markdown",
   "metadata": {},
   "source": [
    "* Commit your your changes for GitHub Repository version control and for history logs."
   ]
  },
  {
   "cell_type": "code",
   "execution_count": null,
   "metadata": {},
   "outputs": [
    {
     "name": "stdout",
     "output_type": "stream",
     "text": [
      "[main 36c9418]  Add new plots\n",
      " 442 files changed, 365 insertions(+), 35 deletions(-)\n",
      " create mode 100644 images_project/cherry.webp\n",
      " create mode 100644 inputs/cherry-leaves_dataset/cherry-leaves/validation/healthy/02818f40-58e6-4c7d-bfbc-372d89b2045b___JR_HL 4259.JPG\n",
      " create mode 100644 inputs/cherry-leaves_dataset/cherry-leaves/validation/healthy/02818f40-58e6-4c7d-bfbc-372d89b2045b___JR_HL 4259_180deg.JPG\n",
      " create mode 100644 inputs/cherry-leaves_dataset/cherry-leaves/validation/healthy/02b90e70-80a6-415d-b6a8-07e22dead5c4___JR_HL 9892.JPG\n",
      " create mode 100644 inputs/cherry-leaves_dataset/cherry-leaves/validation/healthy/04189592-5db7-441e-a831-eaaa2d7f5d21___JR_HL 9867.JPG\n",
      " create mode 100644 inputs/cherry-leaves_dataset/cherry-leaves/validation/healthy/0438b691-45f8-4251-83bd-8344656716a1___JR_HL 4152_180deg.JPG\n",
      " create mode 100644 inputs/cherry-leaves_dataset/cherry-leaves/validation/healthy/069996a8-8cdb-4837-a5fe-c5a957b5677a___JR_HL 3938.JPG\n",
      " create mode 100644 inputs/cherry-leaves_dataset/cherry-leaves/validation/healthy/088b245d-2b68-4d2b-b7fe-0e9fc42131d3___JR_HL 4132.JPG\n",
      " create mode 100644 inputs/cherry-leaves_dataset/cherry-leaves/validation/healthy/088b245d-2b68-4d2b-b7fe-0e9fc42131d3___JR_HL 4132_flipTB.JPG\n",
      " create mode 100644 inputs/cherry-leaves_dataset/cherry-leaves/validation/healthy/0a273dc4-db45-4936-aee3-59919e1df44f___JR_HL 9805.JPG\n",
      " create mode 100644 inputs/cherry-leaves_dataset/cherry-leaves/validation/healthy/1122ce37-d8a9-451e-b78c-841200726e0b___JR_HL 4204_180deg.JPG\n",
      " create mode 100644 inputs/cherry-leaves_dataset/cherry-leaves/validation/healthy/124e5b7b-dc6a-4b5a-8f4e-b22ed738b5fc___JR_HL 9455_180deg.JPG\n",
      " create mode 100644 inputs/cherry-leaves_dataset/cherry-leaves/validation/healthy/14a60696-ce0e-4180-840e-3e7e5ebe3d48___JR_HL 4150.JPG\n",
      " create mode 100644 inputs/cherry-leaves_dataset/cherry-leaves/validation/healthy/1569c85f-1995-4dc3-8ffd-663c932f6367___JR_HL 4042.JPG\n",
      " create mode 100644 inputs/cherry-leaves_dataset/cherry-leaves/validation/healthy/15b8341a-ccad-4e01-be86-01bec89089d2___JR_HL 9474_flipTB.JPG\n",
      " create mode 100644 inputs/cherry-leaves_dataset/cherry-leaves/validation/healthy/1716865b-73f8-4636-8a50-a9edc47aabfc___JR_HL 9782_180deg.JPG\n",
      " create mode 100644 inputs/cherry-leaves_dataset/cherry-leaves/validation/healthy/17d3b0b7-b847-4510-a2e0-30b9314284f3___JR_HL 9556_flipTB.JPG\n",
      " create mode 100644 inputs/cherry-leaves_dataset/cherry-leaves/validation/healthy/183e009f-456d-45f3-8f1a-efe984123983___JR_HL 4091_180deg.JPG\n",
      " create mode 100644 inputs/cherry-leaves_dataset/cherry-leaves/validation/healthy/18dd1c4b-ea49-49b7-9334-ad61763babd4___JR_HL 4297_flipTB.JPG\n",
      " create mode 100644 inputs/cherry-leaves_dataset/cherry-leaves/validation/healthy/1958f859-69e4-4360-be0f-13e5be717a2d___JR_HL 4202.JPG\n",
      " create mode 100644 inputs/cherry-leaves_dataset/cherry-leaves/validation/healthy/1a6504f0-c1ee-40be-a789-c9399fb90eee___JR_HL 9549.JPG\n",
      " create mode 100644 inputs/cherry-leaves_dataset/cherry-leaves/validation/healthy/1c802208-2e7f-45cc-9027-3c1edb5098aa___JR_HL 9634.JPG\n",
      " create mode 100644 inputs/cherry-leaves_dataset/cherry-leaves/validation/healthy/220a359f-3d06-41fe-9c8d-e5da7d5c426f___JR_HL 4308_flipTB.JPG\n",
      " create mode 100644 inputs/cherry-leaves_dataset/cherry-leaves/validation/healthy/22cbfe56-85b9-4e13-8a75-faaddd496d26___JR_HL 4197_180deg.JPG\n",
      " create mode 100644 inputs/cherry-leaves_dataset/cherry-leaves/validation/healthy/24695149-1c3d-406e-8468-086d5020a7a5___JR_HL 4282.JPG\n",
      " create mode 100644 inputs/cherry-leaves_dataset/cherry-leaves/validation/healthy/25140b1a-d1c0-4ac1-866b-fbe396d2ae08___JR_HL 9855_180deg.JPG\n",
      " create mode 100644 inputs/cherry-leaves_dataset/cherry-leaves/validation/healthy/255be8f3-8c41-4b23-a4c2-138f9bf79f39___JR_HL 9706_180deg.JPG\n",
      " create mode 100644 inputs/cherry-leaves_dataset/cherry-leaves/validation/healthy/255be8f3-8c41-4b23-a4c2-138f9bf79f39___JR_HL 9706_flipTB.JPG\n",
      " create mode 100644 inputs/cherry-leaves_dataset/cherry-leaves/validation/healthy/25aa393f-5278-4538-a526-c4b4d0290df9___JR_HL 9512_flipTB.JPG\n",
      " create mode 100644 inputs/cherry-leaves_dataset/cherry-leaves/validation/healthy/25dd43a5-9a2b-4051-abdc-1f3a6311915a___JR_HL 9516_flipTB.JPG\n",
      " create mode 100644 inputs/cherry-leaves_dataset/cherry-leaves/validation/healthy/263640d8-3279-4568-998c-e98f6e991b44___JR_HL 9865_180deg.JPG\n",
      " create mode 100644 inputs/cherry-leaves_dataset/cherry-leaves/validation/healthy/271c42ee-ce8e-4cd6-90bf-095d7dcd7b18___JR_HL 4028.JPG\n",
      " create mode 100644 inputs/cherry-leaves_dataset/cherry-leaves/validation/healthy/271c42ee-ce8e-4cd6-90bf-095d7dcd7b18___JR_HL 4028_flipTB.JPG\n",
      " create mode 100644 inputs/cherry-leaves_dataset/cherry-leaves/validation/healthy/27ab799c-5868-4386-8891-6b4ae53fa725___JR_HL 9794.JPG\n",
      " create mode 100644 inputs/cherry-leaves_dataset/cherry-leaves/validation/healthy/286e7fe9-9df9-4876-9fdf-107a06da6eea___JR_HL 9605_180deg.JPG\n",
      " create mode 100644 inputs/cherry-leaves_dataset/cherry-leaves/validation/healthy/319abe40-ce3e-485c-8651-6c98f5f06e69___JR_HL 4069_flipTB.JPG\n",
      " create mode 100644 inputs/cherry-leaves_dataset/cherry-leaves/validation/healthy/33ebcc8a-b2a9-4ae0-b95a-670e01b81c01___JR_HL 9694_flipTB.JPG\n",
      " create mode 100644 inputs/cherry-leaves_dataset/cherry-leaves/validation/healthy/37031cef-9105-4a23-9282-86bcdbdbb4ac___JR_HL 4151_flipTB.JPG\n",
      " create mode 100644 inputs/cherry-leaves_dataset/cherry-leaves/validation/healthy/370f1afd-57db-4b5f-988a-fe23851a135f___JR_HL 9499.JPG\n",
      " create mode 100644 inputs/cherry-leaves_dataset/cherry-leaves/validation/healthy/37aa9cca-5c9e-4fd7-b668-c4df93c26b17___JR_HL 9720_flipTB.JPG\n",
      " create mode 100644 inputs/cherry-leaves_dataset/cherry-leaves/validation/healthy/418fb46a-4ace-4f51-b85b-a3885275fe96___JR_HL 9837_180deg.JPG\n",
      " create mode 100644 inputs/cherry-leaves_dataset/cherry-leaves/validation/healthy/443dc8a7-e035-40b3-8e5e-e23798d4817d___JR_HL 9874_180deg.JPG\n",
      " create mode 100644 inputs/cherry-leaves_dataset/cherry-leaves/validation/healthy/457ae174-5064-4736-a52b-0f78110c12eb___JR_HL 9824_flipTB.JPG\n",
      " create mode 100644 inputs/cherry-leaves_dataset/cherry-leaves/validation/healthy/4588d318-6566-403c-8901-85cf834e7dc7___JR_HL 4267_flipTB.JPG\n",
      " create mode 100644 inputs/cherry-leaves_dataset/cherry-leaves/validation/healthy/493e0085-4c40-42a4-b580-32e81f0585fa___JR_HL 9851.JPG\n",
      " create mode 100644 inputs/cherry-leaves_dataset/cherry-leaves/validation/healthy/493e0085-4c40-42a4-b580-32e81f0585fa___JR_HL 9851_flipTB.JPG\n",
      " create mode 100644 inputs/cherry-leaves_dataset/cherry-leaves/validation/healthy/49cab9b4-2390-4636-9253-89f1c574f34b___JR_HL 9608.JPG\n",
      " create mode 100644 inputs/cherry-leaves_dataset/cherry-leaves/validation/healthy/517bc4a7-6519-4325-8b48-06884b110af7___JR_HL 9571.JPG\n",
      " create mode 100644 inputs/cherry-leaves_dataset/cherry-leaves/validation/healthy/527a0f49-31af-413b-b1b7-f7abd7095df9___JR_HL 4306_flipTB.JPG\n",
      " create mode 100644 inputs/cherry-leaves_dataset/cherry-leaves/validation/healthy/534159ca-ce41-470a-bce3-729af336d250___JR_HL 9809.JPG\n",
      " create mode 100644 inputs/cherry-leaves_dataset/cherry-leaves/validation/healthy/546e460b-681e-48a3-b05f-4c9aa3a3b2b1___JR_HL 9604_flipTB.JPG\n",
      " create mode 100644 inputs/cherry-leaves_dataset/cherry-leaves/validation/healthy/5532a755-1cdd-4257-a188-aa8444e79f06___JR_HL 4305_flipTB.JPG\n",
      " create mode 100644 inputs/cherry-leaves_dataset/cherry-leaves/validation/healthy/554b79b3-81fb-4647-969e-14315d684d62___JR_HL 4276_flipTB.JPG\n",
      " create mode 100644 inputs/cherry-leaves_dataset/cherry-leaves/validation/healthy/5d488e25-8c9e-456d-a370-53be6e293a67___JR_HL 3983.JPG\n",
      " create mode 100644 inputs/cherry-leaves_dataset/cherry-leaves/validation/healthy/6021a518-cd76-43e0-8ceb-63e9d67cb039___JR_HL 9618.JPG\n",
      " create mode 100644 inputs/cherry-leaves_dataset/cherry-leaves/validation/healthy/634c1751-431f-48f1-8759-661841fbbd4f___JR_HL 4112.JPG\n",
      " create mode 100644 inputs/cherry-leaves_dataset/cherry-leaves/validation/healthy/6385514c-b4ce-4bfb-8983-71a662e072ec___JR_HL 9727.JPG\n",
      " create mode 100644 inputs/cherry-leaves_dataset/cherry-leaves/validation/healthy/68f0e459-0938-4988-862f-893afb413d57___JR_HL 4268_180deg.JPG\n",
      " create mode 100644 inputs/cherry-leaves_dataset/cherry-leaves/validation/healthy/6aa34cd7-a976-4cd5-9ec4-580f622d4de7___JR_HL 9558.JPG\n",
      " create mode 100644 inputs/cherry-leaves_dataset/cherry-leaves/validation/healthy/6b48e9d2-23b5-4fed-8f93-f4ca90ffb34d___JR_HL 9612.JPG\n",
      " create mode 100644 inputs/cherry-leaves_dataset/cherry-leaves/validation/healthy/6e825c91-1907-4ad8-8ae4-50962f2b1b15___JR_HL 9877 copy_180deg.JPG\n",
      " create mode 100644 inputs/cherry-leaves_dataset/cherry-leaves/validation/healthy/6f7e749d-006a-47a8-94d0-66292e2279fb___JR_HL 9722_180deg.JPG\n",
      " create mode 100644 inputs/cherry-leaves_dataset/cherry-leaves/validation/healthy/705108ce-01cc-4bf5-b92b-bdd4dfd3cabd___JR_HL 4001_flipTB.JPG\n",
      " create mode 100644 inputs/cherry-leaves_dataset/cherry-leaves/validation/healthy/70bab855-a953-4713-bd17-fd45933c90a0___JR_HL 9667_flipTB.JPG\n",
      " create mode 100644 inputs/cherry-leaves_dataset/cherry-leaves/validation/healthy/70cd29ea-fe96-4f8e-961b-3aa02db4a014___JR_HL 4278_180deg.JPG\n",
      " create mode 100644 inputs/cherry-leaves_dataset/cherry-leaves/validation/healthy/71226c5a-bc1f-4257-9369-506e32147cea___JR_HL 4169_flipTB.JPG\n",
      " create mode 100644 inputs/cherry-leaves_dataset/cherry-leaves/validation/healthy/71a6d2b0-9f29-44b2-86b4-00f7dfa5a41d___JR_HL 9658_180deg.JPG\n",
      " create mode 100644 inputs/cherry-leaves_dataset/cherry-leaves/validation/healthy/71f1ee92-e98d-41e7-b129-2f9c97331f97___JR_HL 9869_180deg.JPG\n",
      " create mode 100644 inputs/cherry-leaves_dataset/cherry-leaves/validation/healthy/73331ba8-0579-4620-8884-5f3c64e5212a___JR_HL 4103_flipTB.JPG\n",
      " create mode 100644 inputs/cherry-leaves_dataset/cherry-leaves/validation/healthy/73528ace-e81b-4d49-abea-1b9c395feba2___JR_HL 4184_flipTB.JPG\n",
      " create mode 100644 inputs/cherry-leaves_dataset/cherry-leaves/validation/healthy/754be5a5-dba1-4abb-afe8-c2e75edcf883___JR_HL 3929_flipTB.JPG\n",
      " create mode 100644 inputs/cherry-leaves_dataset/cherry-leaves/validation/healthy/760d41a1-3aca-4ceb-b8ef-12a3b62f785d___JR_HL 4019.JPG\n",
      " create mode 100644 inputs/cherry-leaves_dataset/cherry-leaves/validation/healthy/760d41a1-3aca-4ceb-b8ef-12a3b62f785d___JR_HL 4019_180deg.JPG\n",
      " create mode 100644 inputs/cherry-leaves_dataset/cherry-leaves/validation/healthy/76fcf126-ce7a-4848-b2ba-d248ff170906___JR_HL 9879 copy_flipTB.JPG\n",
      " create mode 100644 inputs/cherry-leaves_dataset/cherry-leaves/validation/healthy/771c7c63-38bb-4d7a-8db1-fda6c5d91076___JR_HL 9882 copy_flipTB.JPG\n",
      " create mode 100644 inputs/cherry-leaves_dataset/cherry-leaves/validation/healthy/77835532-af02-44be-aaac-fa36f9fa5d7a___JR_HL 9738.JPG\n",
      " create mode 100644 inputs/cherry-leaves_dataset/cherry-leaves/validation/healthy/78761149-870c-4ab1-8de3-4361d2866dd5___JR_HL 3982_flipTB.JPG\n",
      " create mode 100644 inputs/cherry-leaves_dataset/cherry-leaves/validation/healthy/790ba57a-4f9d-461f-99ce-88019ffc60ed___JR_HL 4015_180deg.JPG\n",
      " create mode 100644 inputs/cherry-leaves_dataset/cherry-leaves/validation/healthy/791a7d36-49d2-4b61-8fc9-bfab404a9124___JR_HL 9456.JPG\n",
      " create mode 100644 inputs/cherry-leaves_dataset/cherry-leaves/validation/healthy/794edf29-4777-4a28-8efc-f0a33f1444ee___JR_HL 9426.JPG\n",
      " create mode 100644 inputs/cherry-leaves_dataset/cherry-leaves/validation/healthy/79d33f58-35b7-45fa-b078-696375860260___JR_HL 4046.JPG\n",
      " create mode 100644 inputs/cherry-leaves_dataset/cherry-leaves/validation/healthy/7bb5ebf4-8be6-4652-913c-519b58a34821___JR_HL 9758_180deg.JPG\n",
      " create mode 100644 inputs/cherry-leaves_dataset/cherry-leaves/validation/healthy/7bb5ebf4-8be6-4652-913c-519b58a34821___JR_HL 9758_flipTB.JPG\n",
      " create mode 100644 inputs/cherry-leaves_dataset/cherry-leaves/validation/healthy/7c438709-cbee-4ece-96fb-b3264ed0a7f0___JR_HL 3942.JPG\n",
      " create mode 100644 inputs/cherry-leaves_dataset/cherry-leaves/validation/healthy/7d779a1c-5d0c-4a30-ba07-b2c456b11797___JR_HL 9770.JPG\n",
      " create mode 100644 inputs/cherry-leaves_dataset/cherry-leaves/validation/healthy/7d779a1c-5d0c-4a30-ba07-b2c456b11797___JR_HL 9770_flipTB.JPG\n",
      " create mode 100644 inputs/cherry-leaves_dataset/cherry-leaves/validation/healthy/7feb145d-637f-4ce2-8f79-eb0be1160a86___JR_HL 4285.JPG\n",
      " create mode 100644 inputs/cherry-leaves_dataset/cherry-leaves/validation/healthy/81bb1547-9da2-4754-8829-3690422f46bd___JR_HL 9519_180deg.JPG\n",
      " create mode 100644 inputs/cherry-leaves_dataset/cherry-leaves/validation/healthy/83e9a1a7-8a7c-4088-acb9-b3e5f1afbe7e___JR_HL 4205_180deg.JPG\n",
      " create mode 100644 inputs/cherry-leaves_dataset/cherry-leaves/validation/healthy/83e9a1a7-8a7c-4088-acb9-b3e5f1afbe7e___JR_HL 4205_flipTB.JPG\n",
      " create mode 100644 inputs/cherry-leaves_dataset/cherry-leaves/validation/healthy/84807b4a-f76a-4ebf-a78a-ec9444197c55___JR_HL 9786.JPG\n",
      " create mode 100644 inputs/cherry-leaves_dataset/cherry-leaves/validation/healthy/85cbe85f-385e-4105-8d05-4ce5e56bcdc8___JR_HL 4200.JPG\n",
      " create mode 100644 inputs/cherry-leaves_dataset/cherry-leaves/validation/healthy/88fd947e-a850-4e0c-9dff-8984478b04e1___JR_HL 3984_flipTB.JPG\n",
      " create mode 100644 inputs/cherry-leaves_dataset/cherry-leaves/validation/healthy/8ac9b3d3-23c6-42e1-84d7-c4109379b7a1___JR_HL 9640_flipTB.JPG\n",
      " create mode 100644 inputs/cherry-leaves_dataset/cherry-leaves/validation/healthy/8c1abb7e-703e-4c23-9e3e-d2893b8abe3a___JR_HL 4048_flipTB.JPG\n",
      " create mode 100644 inputs/cherry-leaves_dataset/cherry-leaves/validation/healthy/8c2ca351-4aeb-4da9-9e5b-8905509cf148___JR_HL 9683.JPG\n",
      " create mode 100644 inputs/cherry-leaves_dataset/cherry-leaves/validation/healthy/8c2ca351-4aeb-4da9-9e5b-8905509cf148___JR_HL 9683_180deg.JPG\n",
      " create mode 100644 inputs/cherry-leaves_dataset/cherry-leaves/validation/healthy/8d1e7dbb-c3bf-49a2-a51e-2645017e2adb___JR_HL 9530_180deg.JPG\n",
      " create mode 100644 inputs/cherry-leaves_dataset/cherry-leaves/validation/healthy/8d1e7dbb-c3bf-49a2-a51e-2645017e2adb___JR_HL 9530_flipTB.JPG\n",
      " create mode 100644 inputs/cherry-leaves_dataset/cherry-leaves/validation/healthy/8ef7ac77-0588-4028-a31f-d6a5d3cded70___JR_HL 9471_flipTB.JPG\n",
      " create mode 100644 inputs/cherry-leaves_dataset/cherry-leaves/validation/healthy/9085e422-36a7-44fc-958b-5212f8a29c79___JR_HL 4173_180deg.JPG\n",
      " create mode 100644 inputs/cherry-leaves_dataset/cherry-leaves/validation/healthy/90cf84c2-0bca-4c08-a873-65ccfb87ed24___JR_HL 9733_180deg.JPG\n",
      " create mode 100644 inputs/cherry-leaves_dataset/cherry-leaves/validation/healthy/92be7b5a-371b-4b99-970b-34f1b263552f___JR_HL 9469_180deg.JPG\n",
      " create mode 100644 inputs/cherry-leaves_dataset/cherry-leaves/validation/healthy/92f51e03-8792-42ea-a709-0b6fb115e1be___JR_HL 9807_180deg.JPG\n",
      " create mode 100644 inputs/cherry-leaves_dataset/cherry-leaves/validation/healthy/930dcafe-e657-48a0-a4d5-78b145b63287___JR_HL 9521_flipTB.JPG\n",
      " create mode 100644 inputs/cherry-leaves_dataset/cherry-leaves/validation/healthy/9705f45b-e0e3-4d0e-a0f0-ad1c9b3b32a0___JR_HL 4311_180deg.JPG\n",
      " create mode 100644 inputs/cherry-leaves_dataset/cherry-leaves/validation/healthy/993cc551-ec98-4764-9c65-dae36effba8b___JR_HL 4084_180deg.JPG\n",
      " create mode 100644 inputs/cherry-leaves_dataset/cherry-leaves/validation/healthy/9ae1a6c3-51f1-4781-80e8-a34b7b0c8973___JR_HL 4232.JPG\n",
      " create mode 100644 inputs/cherry-leaves_dataset/cherry-leaves/validation/healthy/9af553ae-5150-4736-bfd9-82173b911272___JR_HL 9619_180deg.JPG\n",
      " create mode 100644 inputs/cherry-leaves_dataset/cherry-leaves/validation/healthy/9b15b47c-53e0-4873-b51c-d2b6e316d56c___JR_HL 4180.JPG\n",
      " create mode 100644 inputs/cherry-leaves_dataset/cherry-leaves/validation/healthy/9c1ddac2-44fa-4a3a-b7cb-4ab597faf089___JR_HL 4070_180deg.JPG\n",
      " create mode 100644 inputs/cherry-leaves_dataset/cherry-leaves/validation/healthy/9ce21384-43da-4599-99c3-63af7c18cf96___JR_HL 4004_flipTB.JPG\n",
      " create mode 100644 inputs/cherry-leaves_dataset/cherry-leaves/validation/healthy/9e159df4-2951-459d-850a-bd822b9faf9b___JR_HL 4023.JPG\n",
      " create mode 100644 inputs/cherry-leaves_dataset/cherry-leaves/validation/healthy/9e159df4-2951-459d-850a-bd822b9faf9b___JR_HL 4023_flipTB.JPG\n",
      " create mode 100644 inputs/cherry-leaves_dataset/cherry-leaves/validation/healthy/9efc5503-0ec7-4426-9adc-3842b9a19dca___JR_HL 3980.JPG\n",
      " create mode 100644 inputs/cherry-leaves_dataset/cherry-leaves/validation/healthy/a2196e0d-52fc-4194-8127-98076bd3a6fc___JR_HL 4241_flipTB.JPG\n",
      " create mode 100644 inputs/cherry-leaves_dataset/cherry-leaves/validation/healthy/a36fb3a6-f05b-4541-8617-6079781ea8ed___JR_HL 9831_180deg.JPG\n",
      " create mode 100644 inputs/cherry-leaves_dataset/cherry-leaves/validation/healthy/a3a50495-2372-42b4-b57c-c3b80cfacfaa___JR_HL 4313.JPG\n",
      " create mode 100644 inputs/cherry-leaves_dataset/cherry-leaves/validation/healthy/a3a50495-2372-42b4-b57c-c3b80cfacfaa___JR_HL 4313_flipTB.JPG\n",
      " create mode 100644 inputs/cherry-leaves_dataset/cherry-leaves/validation/healthy/a3e1c4a1-22b9-4167-89c7-9a7889ad2c15___JR_HL 3922_flipTB.JPG\n",
      " create mode 100644 inputs/cherry-leaves_dataset/cherry-leaves/validation/healthy/a3f150fa-e692-4588-a797-ab260f45abcb___JR_HL 9637_flipTB.JPG\n",
      " create mode 100644 inputs/cherry-leaves_dataset/cherry-leaves/validation/healthy/a46afcb8-ce3a-4583-aa94-ad5ea4c66ab0___JR_HL 4102_180deg.JPG\n",
      " create mode 100644 inputs/cherry-leaves_dataset/cherry-leaves/validation/healthy/a52b26ec-29a5-4bb6-b3e4-f7599240e0d3___JR_HL 4021.JPG\n",
      " create mode 100644 inputs/cherry-leaves_dataset/cherry-leaves/validation/healthy/a55d7cbf-498c-4392-b6a0-14f7f0f74a3b___JR_HL 9578_flipTB.JPG\n",
      " create mode 100644 inputs/cherry-leaves_dataset/cherry-leaves/validation/healthy/a5acd354-cbb4-42fb-ac89-4c2ee84955d6___JR_HL 9486.JPG\n",
      " create mode 100644 inputs/cherry-leaves_dataset/cherry-leaves/validation/healthy/a5f27f47-9b56-4c1c-941a-12e2525496cb___JR_HL 9771_flipTB.JPG\n",
      " create mode 100644 inputs/cherry-leaves_dataset/cherry-leaves/validation/healthy/a6562ee2-b37b-4734-9bf4-75da24f34bd1___JR_HL 4153_180deg.JPG\n",
      " create mode 100644 inputs/cherry-leaves_dataset/cherry-leaves/validation/healthy/a6f2b377-2668-4f0d-98a3-cbb67f20c867___JR_HL 4013.JPG\n",
      " create mode 100644 inputs/cherry-leaves_dataset/cherry-leaves/validation/healthy/a97e7cd1-52ee-49fa-a352-f424d8ad6c8f___JR_HL 9529.JPG\n",
      " create mode 100644 inputs/cherry-leaves_dataset/cherry-leaves/validation/healthy/a97e7cd1-52ee-49fa-a352-f424d8ad6c8f___JR_HL 9529_180deg.JPG\n",
      " create mode 100644 inputs/cherry-leaves_dataset/cherry-leaves/validation/healthy/aac1e835-defb-45dd-b439-986ad949f684___JR_HL 9442.JPG\n",
      " create mode 100644 inputs/cherry-leaves_dataset/cherry-leaves/validation/healthy/aaee6da4-9549-447b-906d-2e42199da7c5___JR_HL 9833_flipTB.JPG\n",
      " create mode 100644 inputs/cherry-leaves_dataset/cherry-leaves/validation/healthy/ab3bea0d-8559-4f2b-ad4b-3dec4bc43036___JR_HL 9467_flipTB.JPG\n",
      " create mode 100644 inputs/cherry-leaves_dataset/cherry-leaves/validation/healthy/ab6b65e2-f258-49cc-a0f4-7164023d43a6___JR_HL 4254_flipTB.JPG\n",
      " create mode 100644 inputs/cherry-leaves_dataset/cherry-leaves/validation/healthy/adea390a-76fa-447a-9cde-060abeba5ef5___JR_HL 9834_180deg.JPG\n",
      " create mode 100644 inputs/cherry-leaves_dataset/cherry-leaves/validation/healthy/ae37e198-d496-4b5e-acfd-d0c29a3d2317___JR_HL 4235.JPG\n",
      " create mode 100644 inputs/cherry-leaves_dataset/cherry-leaves/validation/healthy/aed890d7-234c-4f7b-a9f4-7e30c1275467___JR_HL 3975_flipTB.JPG\n",
      " create mode 100644 inputs/cherry-leaves_dataset/cherry-leaves/validation/healthy/af3fc764-85b8-4777-8056-585d6a13e225___JR_HL 4062_flipTB.JPG\n",
      " create mode 100644 inputs/cherry-leaves_dataset/cherry-leaves/validation/healthy/af85c82e-b339-437d-a443-f13ee6194cb5___JR_HL 4321.JPG\n",
      " create mode 100644 inputs/cherry-leaves_dataset/cherry-leaves/validation/healthy/afc512c4-c782-4350-85d3-fa26046950a3___JR_HL 9764_180deg.JPG\n",
      " create mode 100644 inputs/cherry-leaves_dataset/cherry-leaves/validation/healthy/b13a43b6-a7f4-4922-9315-12398bb130fe___JR_HL 4270_flipTB.JPG\n",
      " create mode 100644 inputs/cherry-leaves_dataset/cherry-leaves/validation/healthy/b1735d5c-0638-4299-95a0-eb94cfcfd151___JR_HL 9715_180deg.JPG\n",
      " create mode 100644 inputs/cherry-leaves_dataset/cherry-leaves/validation/healthy/b489ce0e-ab37-4bd9-b45a-84f8d994eb0f___JR_HL 9495.JPG\n",
      " create mode 100644 inputs/cherry-leaves_dataset/cherry-leaves/validation/healthy/b4c4f75b-032e-4034-8525-26844cc6bff5___JR_HL 4211_flipTB.JPG\n",
      " create mode 100644 inputs/cherry-leaves_dataset/cherry-leaves/validation/healthy/b560e9ca-bfee-4ffe-92ec-60391fcd3076___JR_HL 4039.JPG\n",
      " create mode 100644 inputs/cherry-leaves_dataset/cherry-leaves/validation/healthy/b56db96a-1581-4432-8d44-0d1884912a47___JR_HL 9894_flipTB.JPG\n",
      " create mode 100644 inputs/cherry-leaves_dataset/cherry-leaves/validation/healthy/b5eee43f-ca96-4ff2-bff8-b82cae4e06fb___JR_HL 4245.JPG\n",
      " create mode 100644 inputs/cherry-leaves_dataset/cherry-leaves/validation/healthy/b740bd4d-0d9f-4949-b84d-56a0c952be72___JR_HL 4135.JPG\n",
      " create mode 100644 inputs/cherry-leaves_dataset/cherry-leaves/validation/healthy/b740bd4d-0d9f-4949-b84d-56a0c952be72___JR_HL 4135_180deg.JPG\n",
      " create mode 100644 inputs/cherry-leaves_dataset/cherry-leaves/validation/healthy/b7b1918d-d608-4aa0-9990-f0ff9a90b414___JR_HL 4144_180deg.JPG\n",
      " create mode 100644 inputs/cherry-leaves_dataset/cherry-leaves/validation/healthy/b84846ee-4d65-4404-8053-ad9bc9391b2f___JR_HL 9503_flipTB.JPG\n",
      " create mode 100644 inputs/cherry-leaves_dataset/cherry-leaves/validation/healthy/b98e33ce-f1b1-45ab-8429-23c303eb079a___JR_HL 3981_180deg.JPG\n",
      " create mode 100644 inputs/cherry-leaves_dataset/cherry-leaves/validation/healthy/bbf73155-4f12-41a1-b087-38b078e646a1___JR_HL 9592_flipTB.JPG\n",
      " create mode 100644 inputs/cherry-leaves_dataset/cherry-leaves/validation/healthy/bec69b31-ed99-4555-9bef-b9b851d968cc___JR_HL 9877_180deg.JPG\n",
      " create mode 100644 inputs/cherry-leaves_dataset/cherry-leaves/validation/healthy/bf769ea1-b993-43bb-9f24-07e1d9270d5a___JR_HL 9440_180deg.JPG\n",
      " create mode 100644 inputs/cherry-leaves_dataset/cherry-leaves/validation/healthy/c09a1ad6-e9f5-47cb-ad0c-8ce3a1966073___JR_HL 9710_180deg.JPG\n",
      " create mode 100644 inputs/cherry-leaves_dataset/cherry-leaves/validation/healthy/c09a1ad6-e9f5-47cb-ad0c-8ce3a1966073___JR_HL 9710_flipTB.JPG\n",
      " create mode 100644 inputs/cherry-leaves_dataset/cherry-leaves/validation/healthy/c0ef1466-26c8-460c-a2b8-d72c5caf0792___JR_HL 4275.JPG\n",
      " create mode 100644 inputs/cherry-leaves_dataset/cherry-leaves/validation/healthy/c1011062-7bbf-45b2-bca2-1de3e5c5cd9a___JR_HL 4258_flipTB.JPG\n",
      " create mode 100644 inputs/cherry-leaves_dataset/cherry-leaves/validation/healthy/c376780a-87fa-4d3b-851c-ee98da3d6950___JR_HL 9430_flipTB.JPG\n",
      " create mode 100644 inputs/cherry-leaves_dataset/cherry-leaves/validation/healthy/c37f8678-ed86-42ab-9a8b-f4172d94bf1e___JR_HL 4220_180deg.JPG\n",
      " create mode 100644 inputs/cherry-leaves_dataset/cherry-leaves/validation/healthy/c4a9900b-1227-4e73-b9b1-9e9ed037d6b3___JR_HL 4094_flipTB.JPG\n",
      " create mode 100644 inputs/cherry-leaves_dataset/cherry-leaves/validation/healthy/c4d080c7-e9be-4be6-a91c-290992c2cac0___JR_HL 9801_flipTB.JPG\n",
      " create mode 100644 inputs/cherry-leaves_dataset/cherry-leaves/validation/healthy/c54f694a-5b56-48a4-b4c4-383b825d6893___JR_HL 9884 copy.JPG\n",
      " create mode 100644 inputs/cherry-leaves_dataset/cherry-leaves/validation/healthy/c7003e27-49fe-4b61-a6d2-a72c7595f297___JR_HL 9893_180deg.JPG\n",
      " create mode 100644 inputs/cherry-leaves_dataset/cherry-leaves/validation/healthy/c889dabb-e9dc-448c-80f3-791fea97fafd___JR_HL 9501_180deg.JPG\n",
      " create mode 100644 inputs/cherry-leaves_dataset/cherry-leaves/validation/healthy/c89bc3c2-97d5-4e38-a090-3ba121a17adf___JR_HL 4179_180deg.JPG\n",
      " create mode 100644 inputs/cherry-leaves_dataset/cherry-leaves/validation/healthy/c89bc3c2-97d5-4e38-a090-3ba121a17adf___JR_HL 4179_flipTB.JPG\n",
      " create mode 100644 inputs/cherry-leaves_dataset/cherry-leaves/validation/healthy/c8cbb528-e68c-4aac-89fa-3e0eee1b9f24___JR_HL 4147_flipTB.JPG\n",
      " create mode 100644 inputs/cherry-leaves_dataset/cherry-leaves/validation/healthy/ca1aebd1-8b31-4727-a4be-e1a8f421f1cf___JR_HL 9893 copy_flipTB.JPG\n",
      " create mode 100644 inputs/cherry-leaves_dataset/cherry-leaves/validation/healthy/caa120a1-7f2d-48d0-adef-fed8521179bf___JR_HL 4166_180deg.JPG\n",
      " create mode 100644 inputs/cherry-leaves_dataset/cherry-leaves/validation/healthy/cde3b72e-90ff-4d6f-8b2d-7db83c08167a___JR_HL 3940_180deg.JPG\n",
      " create mode 100644 inputs/cherry-leaves_dataset/cherry-leaves/validation/healthy/cf4b0e6e-7847-496b-ae4b-eb8466631c05___JR_HL 9624.JPG\n",
      " create mode 100644 inputs/cherry-leaves_dataset/cherry-leaves/validation/healthy/cf4b0e6e-7847-496b-ae4b-eb8466631c05___JR_HL 9624_flipTB.JPG\n",
      " create mode 100644 inputs/cherry-leaves_dataset/cherry-leaves/validation/healthy/cf616072-4062-498e-b524-a1705681351f___JR_HL 9868_flipTB.JPG\n",
      " create mode 100644 inputs/cherry-leaves_dataset/cherry-leaves/validation/healthy/d03d7e87-1375-490a-bb4a-b7dd2480f123___JR_HL 9476_flipTB.JPG\n",
      " create mode 100644 inputs/cherry-leaves_dataset/cherry-leaves/validation/healthy/d0afde99-1940-4a55-94da-dfbba13d20f6___JR_HL 4249_180deg.JPG\n",
      " create mode 100644 inputs/cherry-leaves_dataset/cherry-leaves/validation/healthy/d0ca6667-2c20-4601-84ae-662d0519f79a___JR_HL 4167_flipTB.JPG\n",
      " create mode 100644 inputs/cherry-leaves_dataset/cherry-leaves/validation/healthy/d1113e15-85d4-48a1-8323-f65c688ecf8c___JR_HL 9654.JPG\n",
      " create mode 100644 inputs/cherry-leaves_dataset/cherry-leaves/validation/healthy/d1783f85-5cb9-4683-b493-4e9112749f23___JR_HL 9507_180deg.JPG\n",
      " create mode 100644 inputs/cherry-leaves_dataset/cherry-leaves/validation/healthy/d1c378ef-57e4-4ebc-b3f2-e34f6b2441d2___JR_HL 4098_180deg.JPG\n",
      " create mode 100644 inputs/cherry-leaves_dataset/cherry-leaves/validation/healthy/d23baa77-cb73-4b25-a5b8-3246d5a6a02f___JR_HL 9436_180deg.JPG\n",
      " create mode 100644 inputs/cherry-leaves_dataset/cherry-leaves/validation/healthy/d259c188-0c17-4199-aac1-5399903f74a3___JR_HL 4100.JPG\n",
      " create mode 100644 inputs/cherry-leaves_dataset/cherry-leaves/validation/healthy/d3dbee67-a252-467c-bb41-8df8d78ec476___JR_HL 9447.JPG\n",
      " create mode 100644 inputs/cherry-leaves_dataset/cherry-leaves/validation/healthy/d56ee855-3805-48b7-8cff-da3c398c6387___JR_HL 9810.JPG\n",
      " create mode 100644 inputs/cherry-leaves_dataset/cherry-leaves/validation/healthy/d56ee855-3805-48b7-8cff-da3c398c6387___JR_HL 9810_180deg.JPG\n",
      " create mode 100644 inputs/cherry-leaves_dataset/cherry-leaves/validation/healthy/d699b1fd-0743-4406-b7b2-72ced5b5090c___JR_HL 9730_180deg.JPG\n",
      " create mode 100644 inputs/cherry-leaves_dataset/cherry-leaves/validation/healthy/d8d56350-2b4a-49e3-9cad-0e3317777b67___JR_HL 4289_180deg.JPG\n",
      " create mode 100644 inputs/cherry-leaves_dataset/cherry-leaves/validation/healthy/d9ffa906-ca86-4a23-bf43-033c6270e05f___JR_HL 4280_flipTB.JPG\n",
      " create mode 100644 inputs/cherry-leaves_dataset/cherry-leaves/validation/healthy/daaa7f78-5f20-4e6e-9c18-1c67d6218625___JR_HL 9621_180deg.JPG\n",
      " create mode 100644 inputs/cherry-leaves_dataset/cherry-leaves/validation/healthy/daaa7f78-5f20-4e6e-9c18-1c67d6218625___JR_HL 9621_flipTB.JPG\n",
      " create mode 100644 inputs/cherry-leaves_dataset/cherry-leaves/validation/healthy/db2c8b52-1f7d-4bb7-8cf1-81f241091122___JR_HL 9881_180deg.JPG\n",
      " create mode 100644 inputs/cherry-leaves_dataset/cherry-leaves/validation/healthy/db4be210-a2e9-449e-b618-64707d8ad2cf___JR_HL 9789.JPG\n",
      " create mode 100644 inputs/cherry-leaves_dataset/cherry-leaves/validation/healthy/de350ce9-21b8-4b1f-a5ff-767eac8ba8f2___JR_HL 4136_180deg.JPG\n",
      " create mode 100644 inputs/cherry-leaves_dataset/cherry-leaves/validation/healthy/ded8ae3a-2f72-4ee5-a7d2-c682bfd59d6b___JR_HL 9875 copy.JPG\n",
      " create mode 100644 inputs/cherry-leaves_dataset/cherry-leaves/validation/healthy/e018791f-7887-4420-a1e3-174e43ed9085___JR_HL 9716_flipTB.JPG\n",
      " create mode 100644 inputs/cherry-leaves_dataset/cherry-leaves/validation/healthy/e1143f8b-b94a-4e87-8d2f-235bc9e82eed___JR_HL 9821.JPG\n",
      " create mode 100644 inputs/cherry-leaves_dataset/cherry-leaves/validation/healthy/e22e74d7-7cc6-4e83-a494-cf022c809544___JR_HL 9887_flipTB.JPG\n",
      " create mode 100644 inputs/cherry-leaves_dataset/cherry-leaves/validation/healthy/e37c34a3-b8d4-4fbd-b7a7-f0b14e4bb090___JR_HL 4294.JPG\n",
      " create mode 100644 inputs/cherry-leaves_dataset/cherry-leaves/validation/healthy/e39b1acb-977d-4757-95c2-ed6efc5b099b___JR_HL 3926_flipTB.JPG\n",
      " create mode 100644 inputs/cherry-leaves_dataset/cherry-leaves/validation/healthy/e3d7e13a-d565-4d9e-8a81-ff09e1f619ad___JR_HL 9863.JPG\n",
      " create mode 100644 inputs/cherry-leaves_dataset/cherry-leaves/validation/healthy/e3d7e13a-d565-4d9e-8a81-ff09e1f619ad___JR_HL 9863_flipTB.JPG\n",
      " create mode 100644 inputs/cherry-leaves_dataset/cherry-leaves/validation/healthy/e488b116-6b54-43e7-8b4e-232eb434941b___JR_HL 9425.JPG\n",
      " create mode 100644 inputs/cherry-leaves_dataset/cherry-leaves/validation/healthy/e6b262b1-e3ab-483e-93fa-6da710d6606a___JR_HL 9488_180deg.JPG\n",
      " create mode 100644 inputs/cherry-leaves_dataset/cherry-leaves/validation/healthy/e784cda7-7006-44e5-9578-43b6b26fa4b6___JR_HL 4043_flipTB.JPG\n",
      " create mode 100644 inputs/cherry-leaves_dataset/cherry-leaves/validation/healthy/e8603072-d743-4b79-a882-3699649ffff4___JR_HL 9753.JPG\n",
      " create mode 100644 inputs/cherry-leaves_dataset/cherry-leaves/validation/healthy/ea04086e-125c-4836-b890-06d4c9afe236___JR_HL 9517_flipTB.JPG\n",
      " create mode 100644 inputs/cherry-leaves_dataset/cherry-leaves/validation/healthy/ead906bb-4bf6-4adf-b9c9-05248df3e776___JR_HL 9671_180deg.JPG\n",
      " create mode 100644 inputs/cherry-leaves_dataset/cherry-leaves/validation/healthy/eaf17e05-c2b7-4017-8553-1b11f0ba3941___JR_HL 4226_180deg.JPG\n",
      " create mode 100644 inputs/cherry-leaves_dataset/cherry-leaves/validation/healthy/ebedbe48-ede7-49f1-beb0-6df1375f74d7___JR_HL 4117_180deg.JPG\n",
      " create mode 100644 inputs/cherry-leaves_dataset/cherry-leaves/validation/healthy/ecc0acef-85ea-49bc-9275-79880a6a0f80___JR_HL 9616.JPG\n",
      " create mode 100644 inputs/cherry-leaves_dataset/cherry-leaves/validation/powdery_mildew/02ecd449-7b27-44d7-b59e-7e31813f0c18___FREC_Pwd.M 0450.JPG\n",
      " create mode 100644 inputs/cherry-leaves_dataset/cherry-leaves/validation/powdery_mildew/02ecd449-7b27-44d7-b59e-7e31813f0c18___FREC_Pwd.M 0450_flipLR.JPG\n",
      " create mode 100644 inputs/cherry-leaves_dataset/cherry-leaves/validation/powdery_mildew/03132cd9-1649-4de0-aa41-de6eb60d4878___FREC_Pwd.M 0372_flipLR.JPG\n",
      " create mode 100644 inputs/cherry-leaves_dataset/cherry-leaves/validation/powdery_mildew/05a5fedb-ff42-438a-aa3a-ff41ae4d903a___FREC_Pwd.M 4603_flipLR.JPG\n",
      " create mode 100644 inputs/cherry-leaves_dataset/cherry-leaves/validation/powdery_mildew/06a6c36c-95b7-40b2-9ad5-0f23e8ef7f37___FREC_Pwd.M 4756_flipLR.JPG\n",
      " create mode 100644 inputs/cherry-leaves_dataset/cherry-leaves/validation/powdery_mildew/06e75876-ed4e-40e9-8e82-0b6b4a00eafb___FREC_Pwd.M 0279_flipLR.JPG\n",
      " create mode 100644 inputs/cherry-leaves_dataset/cherry-leaves/validation/powdery_mildew/080a25a5-9b62-4fa7-b7fe-44fef2750e0c___FREC_Pwd.M 4673_flipLR.JPG\n",
      " create mode 100644 inputs/cherry-leaves_dataset/cherry-leaves/validation/powdery_mildew/096c6145-3976-48f3-8d14-54b16af6975f___FREC_Pwd.M 5153.JPG\n",
      " create mode 100644 inputs/cherry-leaves_dataset/cherry-leaves/validation/powdery_mildew/0c22dfef-7413-4f46-b949-903d238678a3___FREC_Pwd.M 5094.JPG\n",
      " create mode 100644 inputs/cherry-leaves_dataset/cherry-leaves/validation/powdery_mildew/0df55dba-60e0-44e6-b64a-1f4d9a1377fd___FREC_Pwd.M 0527.JPG\n",
      " create mode 100644 inputs/cherry-leaves_dataset/cherry-leaves/validation/powdery_mildew/0df55dba-60e0-44e6-b64a-1f4d9a1377fd___FREC_Pwd.M 0527_flipLR.JPG\n",
      " create mode 100644 inputs/cherry-leaves_dataset/cherry-leaves/validation/powdery_mildew/0e1bd946-37ee-40bb-adf0-105d7b55a627___FREC_Pwd.M 0509.JPG\n",
      " create mode 100644 inputs/cherry-leaves_dataset/cherry-leaves/validation/powdery_mildew/10327e24-a50e-4a26-a9e6-5e0377aec73b___FREC_Pwd.M 0298_flipLR.JPG\n",
      " create mode 100644 inputs/cherry-leaves_dataset/cherry-leaves/validation/powdery_mildew/10729db2-3c76-406c-921a-90efaac37016___FREC_Pwd.M 0293.JPG\n",
      " create mode 100644 inputs/cherry-leaves_dataset/cherry-leaves/validation/powdery_mildew/11c4276a-f3a7-4a30-ab68-a3ec4d05cab5___FREC_Pwd.M 0369.JPG\n",
      " create mode 100644 inputs/cherry-leaves_dataset/cherry-leaves/validation/powdery_mildew/12c0e3a2-5b29-4254-afaa-14a5331d04b0___FREC_Pwd.M 0550.JPG\n",
      " create mode 100644 inputs/cherry-leaves_dataset/cherry-leaves/validation/powdery_mildew/13c13e29-d8eb-4013-9cda-674e92b8d4b4___FREC_Pwd.M 5006.JPG\n",
      " create mode 100644 inputs/cherry-leaves_dataset/cherry-leaves/validation/powdery_mildew/13e496f2-bbec-4238-b143-a5a607d1e86d___FREC_Pwd.M 4726_flipLR.JPG\n",
      " create mode 100644 inputs/cherry-leaves_dataset/cherry-leaves/validation/powdery_mildew/165aba95-4e37-4a37-90dd-493b2a5ca418___FREC_Pwd.M 4846.JPG\n",
      " create mode 100644 inputs/cherry-leaves_dataset/cherry-leaves/validation/powdery_mildew/167d6c02-d49c-4571-b9b8-6d77be09dfb4___FREC_Pwd.M 0256.JPG\n",
      " create mode 100644 inputs/cherry-leaves_dataset/cherry-leaves/validation/powdery_mildew/17512756-a606-4ea5-9443-aae374a46e86___FREC_Pwd.M 0504.JPG\n",
      " create mode 100644 inputs/cherry-leaves_dataset/cherry-leaves/validation/powdery_mildew/1c2c7320-bf17-4245-a488-79aa47964c61___FREC_Pwd.M 0447_flipLR.JPG\n",
      " create mode 100644 inputs/cherry-leaves_dataset/cherry-leaves/validation/powdery_mildew/1e5a88c6-d50c-4e12-8e9a-93c69595143e___FREC_Pwd.M 4858_flipLR.JPG\n",
      " create mode 100644 inputs/cherry-leaves_dataset/cherry-leaves/validation/powdery_mildew/1e6e1d27-5a7d-4f2a-ad97-9cc632136ea9___FREC_Pwd.M 0578_flipLR.JPG\n",
      " create mode 100644 inputs/cherry-leaves_dataset/cherry-leaves/validation/powdery_mildew/20b3dbf2-058a-4b8c-8c1d-202b60da82f6___FREC_Pwd.M 0406_flipLR.JPG\n",
      " create mode 100644 inputs/cherry-leaves_dataset/cherry-leaves/validation/powdery_mildew/22259775-b4b5-4e64-a56f-b2be4260346d___FREC_Pwd.M 5133_flipLR.JPG\n",
      " create mode 100644 inputs/cherry-leaves_dataset/cherry-leaves/validation/powdery_mildew/230895ef-e471-4e5a-bde2-38b53729f3ee___FREC_Pwd.M 4598_flipLR.JPG\n",
      " create mode 100644 inputs/cherry-leaves_dataset/cherry-leaves/validation/powdery_mildew/233b15f8-3605-4c36-884f-a5689e202c75___FREC_Pwd.M 5135_flipLR.JPG\n",
      " create mode 100644 inputs/cherry-leaves_dataset/cherry-leaves/validation/powdery_mildew/23e08ad8-dc78-4b12-bb24-8fb2eec6065d___FREC_Pwd.M 4827_flipLR.JPG\n",
      " create mode 100644 inputs/cherry-leaves_dataset/cherry-leaves/validation/powdery_mildew/24eed179-7de3-4add-9af2-773fb4641fd3___FREC_Pwd.M 4626_flipLR.JPG\n",
      " create mode 100644 inputs/cherry-leaves_dataset/cherry-leaves/validation/powdery_mildew/2590bd2f-bef8-4dea-9835-d0740aef6778___FREC_Pwd.M 4514.JPG\n",
      " create mode 100644 inputs/cherry-leaves_dataset/cherry-leaves/validation/powdery_mildew/26dc2692-b056-4e8b-99c5-05ebd249718a___FREC_Pwd.M 4578_flipLR.JPG\n",
      " create mode 100644 inputs/cherry-leaves_dataset/cherry-leaves/validation/powdery_mildew/29533f16-ecd8-4813-9aef-183c0caff693___FREC_Pwd.M 4855.JPG\n",
      " create mode 100644 inputs/cherry-leaves_dataset/cherry-leaves/validation/powdery_mildew/29533f16-ecd8-4813-9aef-183c0caff693___FREC_Pwd.M 4855_flipLR.JPG\n",
      " create mode 100644 inputs/cherry-leaves_dataset/cherry-leaves/validation/powdery_mildew/298721d3-169b-46d0-bf19-c54f7c07e0c9___FREC_Pwd.M 5148.JPG\n",
      " create mode 100644 inputs/cherry-leaves_dataset/cherry-leaves/validation/powdery_mildew/2a47f1fa-4127-4f76-b1d3-00651dc680f1___FREC_Pwd.M 4848.JPG\n",
      " create mode 100644 inputs/cherry-leaves_dataset/cherry-leaves/validation/powdery_mildew/2d9f4080-ce6a-44d4-8a51-1f3cd2be4570___FREC_Pwd.M 0490_flipLR.JPG\n",
      " create mode 100644 inputs/cherry-leaves_dataset/cherry-leaves/validation/powdery_mildew/2e83ac75-fc6d-4c88-b62f-474e244e6944___FREC_Pwd.M 4481_flipLR.JPG\n",
      " create mode 100644 inputs/cherry-leaves_dataset/cherry-leaves/validation/powdery_mildew/2eb1542f-217e-488e-853c-3fe8f3044e10___FREC_Pwd.M 4998.JPG\n",
      " create mode 100644 inputs/cherry-leaves_dataset/cherry-leaves/validation/powdery_mildew/2f2fdc52-8420-41d1-ab72-320a99c27537___FREC_Pwd.M 5101_flipLR.JPG\n",
      " create mode 100644 inputs/cherry-leaves_dataset/cherry-leaves/validation/powdery_mildew/31e0b236-bd92-4020-976d-520cdff0e28b___FREC_Pwd.M 5066_flipLR.JPG\n",
      " create mode 100644 inputs/cherry-leaves_dataset/cherry-leaves/validation/powdery_mildew/328041cc-6302-4d95-8160-f976e6e61426___FREC_Pwd.M 0257.JPG\n",
      " create mode 100644 inputs/cherry-leaves_dataset/cherry-leaves/validation/powdery_mildew/341d8850-26e0-4ac5-a560-da2be3fc4b24___FREC_Pwd.M 0349.JPG\n",
      " create mode 100644 inputs/cherry-leaves_dataset/cherry-leaves/validation/powdery_mildew/356ef788-2518-4519-8df0-c92c41cb8249___FREC_Pwd.M 5104_flipLR.JPG\n",
      " create mode 100644 inputs/cherry-leaves_dataset/cherry-leaves/validation/powdery_mildew/3578c9a5-57d9-4ed9-bfec-d9f889742827___FREC_Pwd.M 4635_flipLR.JPG\n",
      " create mode 100644 inputs/cherry-leaves_dataset/cherry-leaves/validation/powdery_mildew/36875378-8b7e-484f-a557-f1a2d2a9b308___FREC_Pwd.M 4582.JPG\n",
      " create mode 100644 inputs/cherry-leaves_dataset/cherry-leaves/validation/powdery_mildew/36ac8741-4a25-4c69-9158-93ec279974fa___FREC_Pwd.M 4528.JPG\n",
      " create mode 100644 inputs/cherry-leaves_dataset/cherry-leaves/validation/powdery_mildew/3a15932f-38c1-4728-ac2f-fa067662c8e3___FREC_Pwd.M 0563.JPG\n",
      " create mode 100644 inputs/cherry-leaves_dataset/cherry-leaves/validation/powdery_mildew/3b9e2d81-4659-4771-8210-eea9f4500b44___FREC_Pwd.M 4483_flipLR.JPG\n",
      " create mode 100644 inputs/cherry-leaves_dataset/cherry-leaves/validation/powdery_mildew/3c62ecda-0c15-4a6c-9343-f4a54d4e27cb___FREC_Pwd.M 4536.JPG\n",
      " create mode 100644 inputs/cherry-leaves_dataset/cherry-leaves/validation/powdery_mildew/3f56f44a-0a1b-4bf7-abda-d1893f44abc3___FREC_Pwd.M 5090_flipLR.JPG\n",
      " create mode 100644 inputs/cherry-leaves_dataset/cherry-leaves/validation/powdery_mildew/3fdca6e2-38f7-4564-b019-d9dcb9897d6c___FREC_Pwd.M 4655.JPG\n",
      " create mode 100644 inputs/cherry-leaves_dataset/cherry-leaves/validation/powdery_mildew/41493e9c-7e7b-49ce-b189-e5b772623a78___FREC_Pwd.M 4583.JPG\n",
      " create mode 100644 inputs/cherry-leaves_dataset/cherry-leaves/validation/powdery_mildew/41493e9c-7e7b-49ce-b189-e5b772623a78___FREC_Pwd.M 4583_flipLR.JPG\n",
      " create mode 100644 inputs/cherry-leaves_dataset/cherry-leaves/validation/powdery_mildew/41e2a7fa-2b13-4bdf-b17a-990cea0775cc___FREC_Pwd.M 0253.JPG\n",
      " create mode 100644 inputs/cherry-leaves_dataset/cherry-leaves/validation/powdery_mildew/42ce6a15-e155-4865-b71b-2516e462dfe6___FREC_Pwd.M 4882.JPG\n",
      " create mode 100644 inputs/cherry-leaves_dataset/cherry-leaves/validation/powdery_mildew/430e75b3-d67e-429a-936e-e64610dc0aa3___FREC_Pwd.M 0268.JPG\n",
      " create mode 100644 inputs/cherry-leaves_dataset/cherry-leaves/validation/powdery_mildew/438f18e6-97c3-4462-96c0-4ae83790398b___FREC_Pwd.M 4824_flipLR.JPG\n",
      " create mode 100644 inputs/cherry-leaves_dataset/cherry-leaves/validation/powdery_mildew/43f27e79-1bfb-43f7-94d0-ae7f096681a8___FREC_Pwd.M 0254_flipLR.JPG\n",
      " create mode 100644 inputs/cherry-leaves_dataset/cherry-leaves/validation/powdery_mildew/45cf163b-2919-4194-82a1-5e6c0671767e___FREC_Pwd.M 5014_flipLR.JPG\n",
      " create mode 100644 inputs/cherry-leaves_dataset/cherry-leaves/validation/powdery_mildew/48175408-eebb-4868-bc02-906a07a93b77___FREC_Pwd.M 0318_flipLR.JPG\n",
      " create mode 100644 inputs/cherry-leaves_dataset/cherry-leaves/validation/powdery_mildew/486df68c-c24c-4ab0-87b0-6e79a8435ce8___FREC_Pwd.M 0399_flipLR.JPG\n",
      " create mode 100644 inputs/cherry-leaves_dataset/cherry-leaves/validation/powdery_mildew/49008a5d-9ba2-4291-ad7a-93c8bc72b4b2___FREC_Pwd.M 0463.JPG\n",
      " create mode 100644 inputs/cherry-leaves_dataset/cherry-leaves/validation/powdery_mildew/49008a5d-9ba2-4291-ad7a-93c8bc72b4b2___FREC_Pwd.M 0463_flipLR.JPG\n",
      " create mode 100644 inputs/cherry-leaves_dataset/cherry-leaves/validation/powdery_mildew/4b402153-97b6-4d4b-bb3e-b287349d7d41___FREC_Pwd.M 5025.JPG\n",
      " create mode 100644 inputs/cherry-leaves_dataset/cherry-leaves/validation/powdery_mildew/4bbc2747-4250-4f66-ae71-fd178771f2f3___FREC_Pwd.M 4569_flipLR.JPG\n",
      " create mode 100644 inputs/cherry-leaves_dataset/cherry-leaves/validation/powdery_mildew/4c823529-3235-4215-b13d-e74c16ea761a___FREC_Pwd.M 0331.JPG\n",
      " create mode 100644 inputs/cherry-leaves_dataset/cherry-leaves/validation/powdery_mildew/4d275eaa-c496-4ab3-a58e-1929ec222506___FREC_Pwd.M 0397.JPG\n",
      " create mode 100644 inputs/cherry-leaves_dataset/cherry-leaves/validation/powdery_mildew/4f75ddb3-f360-4d18-9d1b-f3fe7ffc1798___FREC_Pwd.M 4595.JPG\n",
      " create mode 100644 inputs/cherry-leaves_dataset/cherry-leaves/validation/powdery_mildew/4fb47a09-ee8b-445f-9fb0-b74a8317a65f___FREC_Pwd.M 4577_flipLR.JPG\n",
      " create mode 100644 inputs/cherry-leaves_dataset/cherry-leaves/validation/powdery_mildew/5050b880-7a98-4f24-a484-014ec59537ee___FREC_Pwd.M 0383.JPG\n",
      " create mode 100644 inputs/cherry-leaves_dataset/cherry-leaves/validation/powdery_mildew/52aea538-85d0-461c-8956-25af2d74a1ac___FREC_Pwd.M 0426_flipLR.JPG\n",
      " create mode 100644 inputs/cherry-leaves_dataset/cherry-leaves/validation/powdery_mildew/53e65c04-8e61-4867-864d-ba917f0aa939___FREC_Pwd.M 0396_flipLR.JPG\n",
      " create mode 100644 inputs/cherry-leaves_dataset/cherry-leaves/validation/powdery_mildew/541ba2aa-9301-4773-9fac-6c29a190f287___FREC_Pwd.M 5060_flipLR.JPG\n",
      " create mode 100644 inputs/cherry-leaves_dataset/cherry-leaves/validation/powdery_mildew/55477ea0-03ae-4ddd-afa5-01b0a640533d___FREC_Pwd.M 0304_flipLR.JPG\n",
      " create mode 100644 inputs/cherry-leaves_dataset/cherry-leaves/validation/powdery_mildew/566e59d0-0ff8-4442-b08a-1b734fd44e1d___FREC_Pwd.M 0470_flipLR.JPG\n",
      " create mode 100644 inputs/cherry-leaves_dataset/cherry-leaves/validation/powdery_mildew/56a9ffe5-ea20-41de-b40f-c6970f54fab4___FREC_Pwd.M 4837_flipLR.JPG\n",
      " create mode 100644 inputs/cherry-leaves_dataset/cherry-leaves/validation/powdery_mildew/59ba7560-f218-44c0-bf46-2019757ec591___FREC_Pwd.M 4923_flipLR.JPG\n",
      " create mode 100644 inputs/cherry-leaves_dataset/cherry-leaves/validation/powdery_mildew/5bff6ee9-60ba-46d9-82a6-637458ebb8b0___FREC_Pwd.M 0483.JPG\n",
      " create mode 100644 inputs/cherry-leaves_dataset/cherry-leaves/validation/powdery_mildew/5f7971d7-eb71-4b09-ada7-5301ed9ce150___FREC_Pwd.M 4678_flipLR.JPG\n",
      " create mode 100644 inputs/cherry-leaves_dataset/cherry-leaves/validation/powdery_mildew/60c15b34-a1a5-440e-85f7-c83d848d41f9___FREC_Pwd.M 4770.JPG\n",
      " create mode 100644 inputs/cherry-leaves_dataset/cherry-leaves/validation/powdery_mildew/60c15b34-a1a5-440e-85f7-c83d848d41f9___FREC_Pwd.M 4770_flipLR.JPG\n",
      " create mode 100644 inputs/cherry-leaves_dataset/cherry-leaves/validation/powdery_mildew/62e8936d-bd22-43e1-a807-9588131172f0___FREC_Pwd.M 4992_flipLR.JPG\n",
      " create mode 100644 inputs/cherry-leaves_dataset/cherry-leaves/validation/powdery_mildew/63a78c82-6708-4324-9ea4-d2f51e83565f___FREC_Pwd.M 4763.JPG\n",
      " create mode 100644 inputs/cherry-leaves_dataset/cherry-leaves/validation/powdery_mildew/6521f6d7-05fd-4144-b2e3-a20f0a7e6f7d___FREC_Pwd.M 5010.JPG\n",
      " create mode 100644 inputs/cherry-leaves_dataset/cherry-leaves/validation/powdery_mildew/65972389-76f0-4b7a-ac4d-b2e9d6dc8d67___FREC_Pwd.M 4664_flipLR.JPG\n",
      " create mode 100644 inputs/cherry-leaves_dataset/cherry-leaves/validation/powdery_mildew/69ec43f8-9a3a-4c2a-aaa7-18375819931f___FREC_Pwd.M 0518.JPG\n",
      " create mode 100644 inputs/cherry-leaves_dataset/cherry-leaves/validation/powdery_mildew/6a076e30-41cb-409c-9209-97e6ed8aa6fb___FREC_Pwd.M 0410.JPG\n",
      " create mode 100644 inputs/cherry-leaves_dataset/cherry-leaves/validation/powdery_mildew/6bb964c3-86cc-4655-8a2c-adcc061e8fe4___FREC_Pwd.M 5099.JPG\n",
      " create mode 100644 inputs/cherry-leaves_dataset/cherry-leaves/validation/powdery_mildew/6c194f25-d1cb-48b1-908e-e6a66a0f6ed2___FREC_Pwd.M 5008.JPG\n",
      " create mode 100644 inputs/cherry-leaves_dataset/cherry-leaves/validation/powdery_mildew/6c4ba807-3b6f-4041-bc17-c268b52bc05f___FREC_Pwd.M 4623_flipLR.JPG\n",
      " create mode 100644 inputs/cherry-leaves_dataset/cherry-leaves/validation/powdery_mildew/6f54b2ab-ab60-49a6-a203-bc273bbfc17e___FREC_Pwd.M 4733.JPG\n",
      " create mode 100644 inputs/cherry-leaves_dataset/cherry-leaves/validation/powdery_mildew/6f76b1b9-8650-4510-bdb5-3f82191e6bc8___FREC_Pwd.M 4841_flipLR.JPG\n",
      " create mode 100644 inputs/cherry-leaves_dataset/cherry-leaves/validation/powdery_mildew/6faac72d-9593-4b9f-9008-93ecdf88c730___FREC_Pwd.M 0308_flipLR.JPG\n",
      " create mode 100644 inputs/cherry-leaves_dataset/cherry-leaves/validation/powdery_mildew/7395ef22-f4fa-41de-8b01-adf1980a7882___FREC_Pwd.M 4497_flipLR.JPG\n",
      " create mode 100644 inputs/cherry-leaves_dataset/cherry-leaves/validation/powdery_mildew/753c3273-e5a5-4425-ab2b-45f41c21ce12___FREC_Pwd.M 4519_flipLR.JPG\n",
      " create mode 100644 inputs/cherry-leaves_dataset/cherry-leaves/validation/powdery_mildew/75819ffc-fe0c-4586-b925-e84c5a7c7528___FREC_Pwd.M 4563.JPG\n",
      " create mode 100644 inputs/cherry-leaves_dataset/cherry-leaves/validation/powdery_mildew/763ede8b-c6f1-4e82-8326-1b240c17103f___FREC_Pwd.M 5106.JPG\n",
      " create mode 100644 inputs/cherry-leaves_dataset/cherry-leaves/validation/powdery_mildew/76ec8385-dfe2-46fd-bb01-9c29e0c6a310___FREC_Pwd.M 4567_flipLR.JPG\n",
      " create mode 100644 inputs/cherry-leaves_dataset/cherry-leaves/validation/powdery_mildew/7722c82b-13bd-44b0-aabd-dd37e8e02a6b___FREC_Pwd.M 5062_flipLR.JPG\n",
      " create mode 100644 inputs/cherry-leaves_dataset/cherry-leaves/validation/powdery_mildew/77989419-b1f4-4e7e-8e85-48edbd870d31___FREC_Pwd.M 4933.JPG\n",
      " create mode 100644 inputs/cherry-leaves_dataset/cherry-leaves/validation/powdery_mildew/7c01393f-ad4c-4921-93bc-c13e428dd530___FREC_Pwd.M 0241_flipLR.JPG\n",
      " create mode 100644 inputs/cherry-leaves_dataset/cherry-leaves/validation/powdery_mildew/7c0ec329-c07a-4b09-bff4-516818141170___FREC_Pwd.M 4985.JPG\n",
      " create mode 100644 inputs/cherry-leaves_dataset/cherry-leaves/validation/powdery_mildew/7cadc083-dec9-4e7d-a1c1-5d77e3b4274d___FREC_Pwd.M 4732_flipLR.JPG\n",
      " create mode 100644 inputs/cherry-leaves_dataset/cherry-leaves/validation/powdery_mildew/7cb2097e-2713-493b-a7eb-451908affeb5___FREC_Pwd.M 0555.JPG\n",
      " create mode 100644 inputs/cherry-leaves_dataset/cherry-leaves/validation/powdery_mildew/7fe8279e-ac07-4b37-823d-35c2d81e7d3c___FREC_Pwd.M 4478_flipLR.JPG\n",
      " create mode 100644 inputs/cherry-leaves_dataset/cherry-leaves/validation/powdery_mildew/80f0343a-1bea-4cfd-9869-0c16763aa0b9___FREC_Pwd.M 5021.JPG\n",
      " create mode 100644 inputs/cherry-leaves_dataset/cherry-leaves/validation/powdery_mildew/835aa390-f0a2-490f-9d55-ddd320dbd528___FREC_Pwd.M 0452.JPG\n",
      " create mode 100644 inputs/cherry-leaves_dataset/cherry-leaves/validation/powdery_mildew/84270d70-0871-497f-9f9c-dc496d6c8640___FREC_Pwd.M 0454_flipLR.JPG\n",
      " create mode 100644 inputs/cherry-leaves_dataset/cherry-leaves/validation/powdery_mildew/84476972-818a-486a-bb2f-a685bc9dac24___FREC_Pwd.M 0407.JPG\n",
      " create mode 100644 inputs/cherry-leaves_dataset/cherry-leaves/validation/powdery_mildew/854a1985-0856-41a9-9f9a-2e1a5822e07c___FREC_Pwd.M 5079_flipLR.JPG\n",
      " create mode 100644 inputs/cherry-leaves_dataset/cherry-leaves/validation/powdery_mildew/87ef0359-61bf-4b11-8ae1-7e46e6e90750___FREC_Pwd.M 0535.JPG\n",
      " create mode 100644 inputs/cherry-leaves_dataset/cherry-leaves/validation/powdery_mildew/898cc60e-bae8-41c9-9695-cfafff82bce6___FREC_Pwd.M 5091.JPG\n",
      " create mode 100644 inputs/cherry-leaves_dataset/cherry-leaves/validation/powdery_mildew/8b990f9b-939d-4899-bd73-02cdb6fa251e___FREC_Pwd.M 5105_flipLR.JPG\n",
      " create mode 100644 inputs/cherry-leaves_dataset/cherry-leaves/validation/powdery_mildew/8b9d11fd-5f48-4562-9256-e047b1be6966___FREC_Pwd.M 4463.JPG\n",
      " create mode 100644 inputs/cherry-leaves_dataset/cherry-leaves/validation/powdery_mildew/8bdd0a9b-df18-4587-a4ac-09a7cf651d54___FREC_Pwd.M 0377.JPG\n",
      " create mode 100644 inputs/cherry-leaves_dataset/cherry-leaves/validation/powdery_mildew/8d6e8113-7c11-401a-aa6e-a5e91e7f94ce___FREC_Pwd.M 0278.JPG\n",
      " create mode 100644 inputs/cherry-leaves_dataset/cherry-leaves/validation/powdery_mildew/8e48b58c-cc17-4fb1-97bb-6c0d056ab4dc___FREC_Pwd.M 5031_flipLR.JPG\n",
      " create mode 100644 inputs/cherry-leaves_dataset/cherry-leaves/validation/powdery_mildew/8ed6abab-561f-4d71-8803-2869614f4e85___FREC_Pwd.M 0585.JPG\n",
      " create mode 100644 inputs/cherry-leaves_dataset/cherry-leaves/validation/powdery_mildew/900cf5aa-c000-45d4-8e30-743c195b1ccd___FREC_Pwd.M 0516.JPG\n",
      " create mode 100644 inputs/cherry-leaves_dataset/cherry-leaves/validation/powdery_mildew/9108bab4-28f5-49d7-96f3-3b7afc0a38f8___FREC_Pwd.M 4727_flipLR.JPG\n",
      " create mode 100644 inputs/cherry-leaves_dataset/cherry-leaves/validation/powdery_mildew/937668de-0516-4a8a-870b-9cbaaf83d0fa___FREC_Pwd.M 0437.JPG\n",
      " create mode 100644 inputs/cherry-leaves_dataset/cherry-leaves/validation/powdery_mildew/945f0cfe-c6da-4164-92f6-900acad26611___FREC_Pwd.M 4486.JPG\n",
      " create mode 100644 inputs/cherry-leaves_dataset/cherry-leaves/validation/powdery_mildew/971178c1-4670-43ca-b01c-9461663f0a60___FREC_Pwd.M 0262.JPG\n",
      " create mode 100644 inputs/cherry-leaves_dataset/cherry-leaves/validation/powdery_mildew/9798c4ae-5a80-4386-9e1c-c306d507940b___FREC_Pwd.M 0465_flipLR.JPG\n",
      " create mode 100644 inputs/cherry-leaves_dataset/cherry-leaves/validation/powdery_mildew/994dde28-a70f-4fd9-86db-49151166eb1d___FREC_Pwd.M 4477.JPG\n",
      " create mode 100644 inputs/cherry-leaves_dataset/cherry-leaves/validation/powdery_mildew/9a969b7c-484b-45c8-9d25-f240903511a4___FREC_Pwd.M 4786_flipLR.JPG\n",
      " create mode 100644 inputs/cherry-leaves_dataset/cherry-leaves/validation/powdery_mildew/9c08c34d-49d5-4319-ab41-9221d51c4de4___FREC_Pwd.M 4618.JPG\n",
      " create mode 100644 inputs/cherry-leaves_dataset/cherry-leaves/validation/powdery_mildew/9d879873-2f64-473a-8c76-72ad55131402___FREC_Pwd.M 4800.JPG\n",
      " create mode 100644 inputs/cherry-leaves_dataset/cherry-leaves/validation/powdery_mildew/9e2c02c8-8f21-4ddc-98e3-a653a4660db5___FREC_Pwd.M 5076.JPG\n",
      " create mode 100644 inputs/cherry-leaves_dataset/cherry-leaves/validation/powdery_mildew/a0797810-e1df-4171-80f6-25f02fea33d1___FREC_Pwd.M 4796.JPG\n",
      " create mode 100644 inputs/cherry-leaves_dataset/cherry-leaves/validation/powdery_mildew/a1e9c49a-5188-4441-8918-60c4719dc313___FREC_Pwd.M 0558.JPG\n",
      " create mode 100644 inputs/cherry-leaves_dataset/cherry-leaves/validation/powdery_mildew/a21fb672-e50e-40eb-9141-17a084f6e5ef___FREC_Pwd.M 4475_flipLR.JPG\n",
      " create mode 100644 inputs/cherry-leaves_dataset/cherry-leaves/validation/powdery_mildew/a3ebcd97-c380-4a41-b8c0-493e5a74d0fd___FREC_Pwd.M 0387.JPG\n",
      " create mode 100644 inputs/cherry-leaves_dataset/cherry-leaves/validation/powdery_mildew/a7b75c15-4118-4d7f-94d5-e859ace0cbf4___FREC_Pwd.M 5050.JPG\n",
      " create mode 100644 inputs/cherry-leaves_dataset/cherry-leaves/validation/powdery_mildew/a8b20f6d-d2d2-4a5c-aa4e-90b2ed20da0c___FREC_Pwd.M 0540.JPG\n",
      " create mode 100644 inputs/cherry-leaves_dataset/cherry-leaves/validation/powdery_mildew/a8b20f6d-d2d2-4a5c-aa4e-90b2ed20da0c___FREC_Pwd.M 0540_flipLR.JPG\n",
      " create mode 100644 inputs/cherry-leaves_dataset/cherry-leaves/validation/powdery_mildew/a97ab660-879e-4cc5-a1ff-ae98e0c794e4___FREC_Pwd.M 0488_flipLR.JPG\n",
      " create mode 100644 inputs/cherry-leaves_dataset/cherry-leaves/validation/powdery_mildew/a98ed458-0abe-4218-bb5f-c5d8c5953aaa___FREC_Pwd.M 5053_flipLR.JPG\n",
      " create mode 100644 inputs/cherry-leaves_dataset/cherry-leaves/validation/powdery_mildew/aa2deb62-4250-4a7d-957f-ec15e090780c___FREC_Pwd.M 4661_flipLR.JPG\n",
      " create mode 100644 inputs/cherry-leaves_dataset/cherry-leaves/validation/powdery_mildew/ab77f14b-ac04-4420-9b95-3758c1840c53___FREC_Pwd.M 5026.JPG\n",
      " create mode 100644 inputs/cherry-leaves_dataset/cherry-leaves/validation/powdery_mildew/ab77f14b-ac04-4420-9b95-3758c1840c53___FREC_Pwd.M 5026_flipLR.JPG\n",
      " create mode 100644 inputs/cherry-leaves_dataset/cherry-leaves/validation/powdery_mildew/abf1a32b-a125-44f8-aadc-79b2d5d3b4a2___FREC_Pwd.M 5127.JPG\n",
      " create mode 100644 inputs/cherry-leaves_dataset/cherry-leaves/validation/powdery_mildew/ae1f1589-016e-4619-99ac-00f214199bfc___FREC_Pwd.M 5150.JPG\n",
      " create mode 100644 inputs/cherry-leaves_dataset/cherry-leaves/validation/powdery_mildew/b09e4052-bc5a-4f9a-a2f0-c27698a94b50___FREC_Pwd.M 0451.JPG\n",
      " create mode 100644 inputs/cherry-leaves_dataset/cherry-leaves/validation/powdery_mildew/b22853ce-86ca-4a0c-9a16-ce82e0817513___FREC_Pwd.M 4942.JPG\n",
      " create mode 100644 inputs/cherry-leaves_dataset/cherry-leaves/validation/powdery_mildew/b22853ce-86ca-4a0c-9a16-ce82e0817513___FREC_Pwd.M 4942_flipLR.JPG\n",
      " create mode 100644 inputs/cherry-leaves_dataset/cherry-leaves/validation/powdery_mildew/b2c8b5a5-86a8-4039-b042-6dc3980c57b3___FREC_Pwd.M 0551.JPG\n",
      " create mode 100644 inputs/cherry-leaves_dataset/cherry-leaves/validation/powdery_mildew/b3da442a-b270-4488-b9a0-c55707d5d0e2___FREC_Pwd.M 4608_flipLR.JPG\n",
      " create mode 100644 inputs/cherry-leaves_dataset/cherry-leaves/validation/powdery_mildew/b9d90cb8-7c25-4378-8d8b-84bdd89fc276___FREC_Pwd.M 0444.JPG\n",
      " create mode 100644 inputs/cherry-leaves_dataset/cherry-leaves/validation/powdery_mildew/ba199443-ad8d-48a9-8fd6-c9a487f51f32___FREC_Pwd.M 0277_flipLR.JPG\n",
      " create mode 100644 inputs/cherry-leaves_dataset/cherry-leaves/validation/powdery_mildew/baf48061-d4ee-45b3-8806-d26ad15bb8ad___FREC_Pwd.M 0328.JPG\n",
      " create mode 100644 inputs/cherry-leaves_dataset/cherry-leaves/validation/powdery_mildew/bb998de5-3d79-46c7-ad23-2dffc9a8037d___FREC_Pwd.M 4826_flipLR.JPG\n",
      " create mode 100644 inputs/cherry-leaves_dataset/cherry-leaves/validation/powdery_mildew/bcf29f97-4079-4c53-af05-a7bda7372c3b___FREC_Pwd.M 4744.JPG\n",
      " create mode 100644 inputs/cherry-leaves_dataset/cherry-leaves/validation/powdery_mildew/bdb92bce-9638-4d5b-ab73-daad834b5427___FREC_Pwd.M 0368.JPG\n",
      " create mode 100644 inputs/cherry-leaves_dataset/cherry-leaves/validation/powdery_mildew/be3fa929-9035-41bf-adfb-e55f97fab802___FREC_Pwd.M 4684_flipLR.JPG\n",
      " create mode 100644 inputs/cherry-leaves_dataset/cherry-leaves/validation/powdery_mildew/bf2142d8-3f04-4a04-96b4-d94aea138081___FREC_Pwd.M 4504_flipLR.JPG\n",
      " create mode 100644 inputs/cherry-leaves_dataset/cherry-leaves/validation/powdery_mildew/bf88ee41-8b66-4915-b799-a0894ae02ad8___FREC_Pwd.M 4968.JPG\n",
      " create mode 100644 inputs/cherry-leaves_dataset/cherry-leaves/validation/powdery_mildew/c4aac531-67ac-4117-8484-cfba3b091b7f___FREC_Pwd.M 5167.JPG\n",
      " create mode 100644 inputs/cherry-leaves_dataset/cherry-leaves/validation/powdery_mildew/c6d3f6f6-479f-41f0-adb2-6674181932f2___FREC_Pwd.M 0330_flipLR.JPG\n",
      " create mode 100644 inputs/cherry-leaves_dataset/cherry-leaves/validation/powdery_mildew/c7a8f6b2-2721-4c65-81ea-fc87fc8f3a27___FREC_Pwd.M 0445_flipLR.JPG\n",
      " create mode 100644 inputs/cherry-leaves_dataset/cherry-leaves/validation/powdery_mildew/c82e8bfd-a4d6-448f-9c6c-1da54df1e12f___FREC_Pwd.M 4547.JPG\n",
      " create mode 100644 inputs/cherry-leaves_dataset/cherry-leaves/validation/powdery_mildew/c82e8bfd-a4d6-448f-9c6c-1da54df1e12f___FREC_Pwd.M 4547_flipLR.JPG\n",
      " create mode 100644 inputs/cherry-leaves_dataset/cherry-leaves/validation/powdery_mildew/c984c421-82d1-443e-9a92-ee39009ce2b2___FREC_Pwd.M 4681_flipLR.JPG\n",
      " create mode 100644 inputs/cherry-leaves_dataset/cherry-leaves/validation/powdery_mildew/ca96a7a3-f34e-4796-86b7-b2826b760002___FREC_Pwd.M 0338_flipLR.JPG\n",
      " create mode 100644 inputs/cherry-leaves_dataset/cherry-leaves/validation/powdery_mildew/cc0b027a-d0e9-489c-97fa-017a94efd300___FREC_Pwd.M 0510.JPG\n",
      " create mode 100644 inputs/cherry-leaves_dataset/cherry-leaves/validation/powdery_mildew/cd5b2229-4131-4e14-a4e3-7b0194334707___FREC_Pwd.M 5162_flipLR.JPG\n",
      " create mode 100644 inputs/cherry-leaves_dataset/cherry-leaves/validation/powdery_mildew/cd612504-a6ca-484c-98fb-7d805b84f09c___FREC_Pwd.M 4856.JPG\n",
      " create mode 100644 inputs/cherry-leaves_dataset/cherry-leaves/validation/powdery_mildew/cd8572da-75c4-4388-a20b-25c136aee122___FREC_Pwd.M 0476.JPG\n",
      " create mode 100644 inputs/cherry-leaves_dataset/cherry-leaves/validation/powdery_mildew/cda8f219-224d-4da2-a829-05384c1bb53a___FREC_Pwd.M 5012.JPG\n",
      " create mode 100644 inputs/cherry-leaves_dataset/cherry-leaves/validation/powdery_mildew/cfe1fe90-4871-461c-b5b3-68df83336004___FREC_Pwd.M 4918_flipLR.JPG\n",
      " create mode 100644 inputs/cherry-leaves_dataset/cherry-leaves/validation/powdery_mildew/d0f63be7-d2c4-4041-819f-9167015d1fed___FREC_Pwd.M 0486.JPG\n",
      " create mode 100644 inputs/cherry-leaves_dataset/cherry-leaves/validation/powdery_mildew/d2c07d3e-6156-422c-bc2a-c8425fa39208___FREC_Pwd.M 4959.JPG\n",
      " create mode 100644 inputs/cherry-leaves_dataset/cherry-leaves/validation/powdery_mildew/d404ee44-8dad-4806-881d-bd607e54f9b2___FREC_Pwd.M 0389.JPG\n",
      " create mode 100644 inputs/cherry-leaves_dataset/cherry-leaves/validation/powdery_mildew/d4433120-16d3-48da-84eb-76a8cdb2436a___FREC_Pwd.M 4875.JPG\n",
      " create mode 100644 inputs/cherry-leaves_dataset/cherry-leaves/validation/powdery_mildew/d45b03fe-d4cc-470c-bb27-e8ced9b6468f___FREC_Pwd.M 5081_flipLR.JPG\n",
      " create mode 100644 inputs/cherry-leaves_dataset/cherry-leaves/validation/powdery_mildew/d53e4b45-41d9-4cea-9f79-80e99bac6a95___FREC_Pwd.M 4948.JPG\n",
      " create mode 100644 inputs/cherry-leaves_dataset/cherry-leaves/validation/powdery_mildew/d5dea1b0-527d-445a-9a7c-2eae850beadc___FREC_Pwd.M 4516_flipLR.JPG\n",
      " create mode 100644 inputs/cherry-leaves_dataset/cherry-leaves/validation/powdery_mildew/d6c35437-9ee4-469c-b9a0-91bae0d73eae___FREC_Pwd.M 4554_flipLR.JPG\n",
      " create mode 100644 inputs/cherry-leaves_dataset/cherry-leaves/validation/powdery_mildew/d8972cd7-999e-44c5-ac22-5ef2d595cd83___FREC_Pwd.M 4658_flipLR.JPG\n",
      " create mode 100644 inputs/cherry-leaves_dataset/cherry-leaves/validation/powdery_mildew/d900ece6-df13-478f-a07a-be31c56e64d5___FREC_Pwd.M 0290.JPG\n",
      " create mode 100644 inputs/cherry-leaves_dataset/cherry-leaves/validation/powdery_mildew/da099922-273a-456d-a8c0-84226a746907___FREC_Pwd.M 4881_flipLR.JPG\n",
      " create mode 100644 inputs/cherry-leaves_dataset/cherry-leaves/validation/powdery_mildew/dd6a34da-d476-471e-ad72-f7ac94236416___FREC_Pwd.M 0365.JPG\n",
      " create mode 100644 inputs/cherry-leaves_dataset/cherry-leaves/validation/powdery_mildew/de3c4897-eda8-4974-971d-4d88cbc5f893___FREC_Pwd.M 4935.JPG\n",
      " create mode 100644 inputs/cherry-leaves_dataset/cherry-leaves/validation/powdery_mildew/decee4a0-018b-47bf-abf6-75bdfb5bc67d___FREC_Pwd.M 4700_flipLR.JPG\n",
      " create mode 100644 inputs/cherry-leaves_dataset/cherry-leaves/validation/powdery_mildew/dffc80c0-ea6e-4122-8be4-c140a0dee06e___FREC_Pwd.M 4581_flipLR.JPG\n",
      " create mode 100644 inputs/cherry-leaves_dataset/cherry-leaves/validation/powdery_mildew/e1c64177-d299-42a7-9d72-7ec29a326460___FREC_Pwd.M 4834.JPG\n",
      " create mode 100644 inputs/cherry-leaves_dataset/cherry-leaves/validation/powdery_mildew/e2858a3b-47c2-4989-b4f3-eea39e9195c3___FREC_Pwd.M 4633_flipLR.JPG\n",
      " create mode 100644 inputs/cherry-leaves_dataset/cherry-leaves/validation/powdery_mildew/e308c527-a0a9-4c33-b469-ac05a2059b7b___FREC_Pwd.M 0552.JPG\n",
      " create mode 100644 inputs/cherry-leaves_dataset/cherry-leaves/validation/powdery_mildew/e3812313-eba4-4456-8ee8-d9d35af975e8___FREC_Pwd.M 4828.JPG\n",
      " create mode 100644 inputs/cherry-leaves_dataset/cherry-leaves/validation/powdery_mildew/e3812313-eba4-4456-8ee8-d9d35af975e8___FREC_Pwd.M 4828_flipLR.JPG\n",
      " create mode 100644 inputs/cherry-leaves_dataset/cherry-leaves/validation/powdery_mildew/e3d4af8b-baa3-48bd-86ad-6d98e821c4e0___FREC_Pwd.M 4983_flipLR.JPG\n",
      " create mode 100644 inputs/cherry-leaves_dataset/cherry-leaves/validation/powdery_mildew/e3d5a32d-3567-44f4-8ea2-79b413214a6d___FREC_Pwd.M 5144_flipLR.JPG\n",
      " create mode 100644 inputs/cherry-leaves_dataset/cherry-leaves/validation/powdery_mildew/e5914945-129f-4862-836e-0866309dc6b1___FREC_Pwd.M 4989_flipLR.JPG\n",
      " create mode 100644 inputs/cherry-leaves_dataset/cherry-leaves/validation/powdery_mildew/e7fe2094-95a1-40fe-ba1d-687ab0756edb___FREC_Pwd.M 0541.JPG\n",
      " create mode 100644 inputs/cherry-leaves_dataset/cherry-leaves/validation/powdery_mildew/ea7682b0-f644-40a7-95b1-83cb41265907___FREC_Pwd.M 4872_flipLR.JPG\n",
      " create mode 100644 inputs/cherry-leaves_dataset/cherry-leaves/validation/powdery_mildew/ebd78f79-cdae-4d2e-a680-f2bb32631ffd___FREC_Pwd.M 4777_flipLR.JPG\n",
      " create mode 100644 inputs/cherry-leaves_dataset/cherry-leaves/validation/powdery_mildew/ecfa631d-ef69-40b9-baba-f7ac469987d2___FREC_Pwd.M 0379_flipLR.JPG\n",
      " create mode 100644 inputs/cherry-leaves_dataset/cherry-leaves/validation/powdery_mildew/ecfc88e0-c886-4d98-9c8d-85607133e922___FREC_Pwd.M 5027_flipLR.JPG\n",
      " create mode 100644 inputs/cherry-leaves_dataset/cherry-leaves/validation/powdery_mildew/ed259920-d6b8-4023-bc7b-b37c371a7b85___FREC_Pwd.M 4789_flipLR.JPG\n",
      " create mode 100644 inputs/cherry-leaves_dataset/cherry-leaves/validation/powdery_mildew/edf764dc-8951-4a95-80f7-4827693db0db___FREC_Pwd.M 0593.JPG\n",
      " create mode 100644 inputs/cherry-leaves_dataset/cherry-leaves/validation/powdery_mildew/f4e8883a-b92b-449c-9f9f-447bc9b288c6___FREC_Pwd.M 4893_flipLR.JPG\n",
      " create mode 100644 inputs/cherry-leaves_dataset/cherry-leaves/validation/powdery_mildew/f5984d40-8f9d-4947-999e-7e146441e9c9___FREC_Pwd.M 4703.JPG\n",
      " create mode 100644 inputs/cherry-leaves_dataset/cherry-leaves/validation/powdery_mildew/f67d7a09-517c-460f-9c75-aa891586a58b___FREC_Pwd.M 4909_flipLR.JPG\n",
      " create mode 100644 inputs/cherry-leaves_dataset/cherry-leaves/validation/powdery_mildew/f727949e-3f0f-40a1-bcb5-e7619df8ff87___FREC_Pwd.M 5128.JPG\n",
      " create mode 100644 inputs/cherry-leaves_dataset/cherry-leaves/validation/powdery_mildew/f7d72dfe-0b0c-44a2-96b3-fd588eb10b12___FREC_Pwd.M 0500_flipLR.JPG\n",
      " create mode 100644 inputs/cherry-leaves_dataset/cherry-leaves/validation/powdery_mildew/f9dfbedf-66b4-4493-9ce9-6f6aca0cb152___FREC_Pwd.M 4926.JPG\n",
      " create mode 100644 inputs/cherry-leaves_dataset/cherry-leaves/validation/powdery_mildew/fc82d54d-ebc6-47d7-8036-2c308524e259___FREC_Pwd.M 4566_flipLR.JPG\n",
      " create mode 100644 inputs/cherry-leaves_dataset/cherry-leaves/validation/powdery_mildew/fd16a9a9-e8d6-4122-b393-a31e787b9d28___FREC_Pwd.M 4762.JPG\n",
      " create mode 100644 inputs/cherry-leaves_dataset/cherry-leaves/validation/powdery_mildew/fd8d4072-e0b3-4936-95c2-e2d6dc6d22b0___FREC_Pwd.M 0250_flipLR.JPG\n",
      " create mode 100644 outputs/v1/avg_var_healthy.png\n",
      " create mode 100644 outputs/v1/avg_var_powdery_mildew.png\n",
      " create mode 100644 outputs/v1/class_indices.pkl\n",
      " create mode 100644 outputs/v1/diff_avg_powdery_mildew_healthy.png\n",
      " create mode 100644 outputs/v1/evaluation.pkl\n",
      " create mode 100644 outputs/v1/image_shape.pkl\n",
      " create mode 100644 outputs/v1/labels_distribution.png\n",
      " create mode 100644 outputs/v1/mildew_detector_model.h5\n",
      " create mode 100644 outputs/v1/model_training_acc.jpg\n",
      " create mode 100644 outputs/v1/model_training_losses.jpg\n",
      " create mode 100644 src/data_management.py\n",
      " create mode 100644 src/machine_learning/evaluate_clf.py\n",
      " create mode 100644 src/machine_learning/predictive_analysis.py\n"
     ]
    }
   ],
   "source": [
    "!git commit -am \" Add the new plots to your repository.\""
   ]
  },
  {
   "cell_type": "markdown",
   "metadata": {},
   "source": [
    "* Push (upload) your changes to GitHub Repository and benefit from both version control and history logs."
   ]
  },
  {
   "cell_type": "code",
   "execution_count": null,
   "metadata": {},
   "outputs": [
    {
     "name": "stdout",
     "output_type": "stream",
     "text": [
      "Enumerating objects: 467, done.\n",
      "Counting objects: 100% (463/463), done.\n",
      "Delta compression using up to 16 threads\n",
      "Compressing objects: 100% (449/449), done.\n",
      "Writing objects: 100% (456/456), 70.78 MiB | 11.17 MiB/s, done.\n",
      "Total 456 (delta 2), reused 0 (delta 0), pack-reused 0\n",
      "remote: Resolving deltas: 100% (2/2), completed with 1 local object.\u001b[K\n",
      "remote: \u001b[1;33mwarning\u001b[m: See https://gh.io/lfs for more information.\u001b[K\n",
      "remote: \u001b[1;33mwarning\u001b[m: File outputs/v1/mildew_detector_model.h5 is 85.07 MB; this is larger than GitHub's recommended maximum file size of 50.00 MB\u001b[K\n",
      "remote: \u001b[1;33mwarning\u001b[m: GH001: Large files detected. You may want to try Git Large File Storage - https://git-lfs.github.com.\u001b[K\n",
      "To https://github.com/OV00VO/mildewdetectionincherryleaves.git\n",
      "   27e534c..36c9418  main -> main\n"
     ]
    }
   ],
   "source": [
    "!git push"
   ]
  },
  {
   "cell_type": "markdown",
   "metadata": {},
   "source": [
    "### End of Step By Step Instructions for Modelling and Evaluation - Well Done!"
   ]
  }
 ],
 "metadata": {
  "kernelspec": {
   "display_name": "Python 3",
   "language": "python",
   "name": "python3"
  },
  "language_info": {
   "codemirror_mode": {
    "name": "ipython",
    "version": 3
   },
   "file_extension": ".py",
   "mimetype": "text/x-python",
   "name": "python",
   "nbconvert_exporter": "python",
   "pygments_lexer": "ipython3",
   "version": "3.12.3"
  }
 },
 "nbformat": 4,
 "nbformat_minor": 2
}
